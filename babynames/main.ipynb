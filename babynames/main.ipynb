{
 "cells": [
  {
   "attachments": {},
   "cell_type": "markdown",
   "metadata": {},
   "source": [
    "# Explore the data\n",
    "\n",
    "Prepare the visualisation"
   ]
  },
  {
   "cell_type": "code",
   "execution_count": 4,
   "metadata": {},
   "outputs": [],
   "source": [
    "import os\n",
    "from utils import load_baby_names_data"
   ]
  },
  {
   "cell_type": "code",
   "execution_count": 5,
   "metadata": {},
   "outputs": [
    {
     "data": {
      "text/plain": [
       "'/home/joffreyma/Projets/mastere_ia/cours/IGR204-Visualisation/week5/BabyNames/babynames'"
      ]
     },
     "execution_count": 5,
     "metadata": {},
     "output_type": "execute_result"
    }
   ],
   "source": [
    "os.getcwd()"
   ]
  },
  {
   "attachments": {},
   "cell_type": "markdown",
   "metadata": {},
   "source": []
  },
  {
   "cell_type": "code",
   "execution_count": 6,
   "metadata": {},
   "outputs": [],
   "source": [
    "baby_names_data = load_baby_names_data()"
   ]
  },
  {
   "cell_type": "code",
   "execution_count": 7,
   "metadata": {},
   "outputs": [
    {
     "data": {
      "text/html": [
       "<div><style>\n",
       ".dataframe > thead > tr > th,\n",
       ".dataframe > tbody > tr > td {\n",
       "  text-align: right;\n",
       "}\n",
       "</style>\n",
       "<small>shape: (3_727_553, 9)</small><table border=\"1\" class=\"dataframe\"><thead><tr><th>sexe</th><th>preusuel</th><th>annais</th><th>dpt</th><th>nombre</th><th>nom</th><th>aire</th><th>longitude</th><th>latitude</th></tr><tr><td>i64</td><td>str</td><td>str</td><td>str</td><td>i64</td><td>str</td><td>str</td><td>f64</td><td>f64</td></tr></thead><tbody><tr><td>1</td><td>&quot;_PRENOMS_RARES…</td><td>&quot;1900&quot;</td><td>&quot;02&quot;</td><td>7</td><td>&quot;Aisne&quot;</td><td>&quot;7 419&quot;</td><td>3.558333</td><td>49.559444</td></tr><tr><td>1</td><td>&quot;_PRENOMS_RARES…</td><td>&quot;1900&quot;</td><td>&quot;04&quot;</td><td>9</td><td>&quot;Alpes-de-Haute…</td><td>&quot;6 996&quot;</td><td>6.243889</td><td>44.106111</td></tr><tr><td>1</td><td>&quot;_PRENOMS_RARES…</td><td>&quot;1900&quot;</td><td>&quot;05&quot;</td><td>8</td><td>&quot;Hautes-Alpes&quot;</td><td>&quot;5 689&quot;</td><td>6.263056</td><td>44.663611</td></tr><tr><td>1</td><td>&quot;_PRENOMS_RARES…</td><td>&quot;1900&quot;</td><td>&quot;06&quot;</td><td>23</td><td>&quot;Alpes-Maritime…</td><td>&quot;4 297&quot;</td><td>7.116389</td><td>43.9375</td></tr><tr><td>1</td><td>&quot;_PRENOMS_RARES…</td><td>&quot;1900&quot;</td><td>&quot;07&quot;</td><td>9</td><td>&quot;Ardèche&quot;</td><td>&quot;5 565&quot;</td><td>4.424722</td><td>44.751667</td></tr><tr><td>1</td><td>&quot;_PRENOMS_RARES…</td><td>&quot;1900&quot;</td><td>&quot;08&quot;</td><td>4</td><td>&quot;Ardennes&quot;</td><td>&quot;5 244&quot;</td><td>4.640833</td><td>49.615556</td></tr><tr><td>1</td><td>&quot;_PRENOMS_RARES…</td><td>&quot;1900&quot;</td><td>&quot;09&quot;</td><td>6</td><td>&quot;Ariège&quot;</td><td>&quot;4 908&quot;</td><td>1.503889</td><td>42.920833</td></tr><tr><td>1</td><td>&quot;_PRENOMS_RARES…</td><td>&quot;1900&quot;</td><td>&quot;10&quot;</td><td>3</td><td>&quot;Aube&quot;</td><td>&quot;6 027&quot;</td><td>4.161667</td><td>48.304444</td></tr><tr><td>1</td><td>&quot;_PRENOMS_RARES…</td><td>&quot;1900&quot;</td><td>&quot;11&quot;</td><td>11</td><td>&quot;Aude&quot;</td><td>&quot;6 345&quot;</td><td>2.414167</td><td>43.103333</td></tr><tr><td>1</td><td>&quot;_PRENOMS_RARES…</td><td>&quot;1900&quot;</td><td>&quot;12&quot;</td><td>7</td><td>&quot;Aveyron&quot;</td><td>&quot;8 774&quot;</td><td>2.679722</td><td>44.280278</td></tr><tr><td>1</td><td>&quot;_PRENOMS_RARES…</td><td>&quot;1900&quot;</td><td>&quot;13&quot;</td><td>37</td><td>&quot;Bouches-du-Rhô…</td><td>&quot;5 247&quot;</td><td>5.086389</td><td>43.543333</td></tr><tr><td>1</td><td>&quot;_PRENOMS_RARES…</td><td>&quot;1900&quot;</td><td>&quot;16&quot;</td><td>13</td><td>&quot;Charente&quot;</td><td>&quot;5 974&quot;</td><td>0.201667</td><td>45.718056</td></tr><tr><td>&hellip;</td><td>&hellip;</td><td>&hellip;</td><td>&hellip;</td><td>&hellip;</td><td>&hellip;</td><td>&hellip;</td><td>&hellip;</td><td>&hellip;</td></tr><tr><td>2</td><td>&quot;ZUZANNA&quot;</td><td>&quot;XXXX&quot;</td><td>&quot;XX&quot;</td><td>123</td><td>null</td><td>null</td><td>null</td><td>null</td></tr><tr><td>2</td><td>&quot;ZYA&quot;</td><td>&quot;2011&quot;</td><td>&quot;85&quot;</td><td>4</td><td>&quot;Vendée&quot;</td><td>&quot;6 774&quot;</td><td>1.297778</td><td>46.674722</td></tr><tr><td>2</td><td>&quot;ZYA&quot;</td><td>&quot;2011&quot;</td><td>&quot;91&quot;</td><td>3</td><td>&quot;Essonne&quot;</td><td>&quot;1 819&quot;</td><td>2.243056</td><td>48.522222</td></tr><tr><td>2</td><td>&quot;ZYA&quot;</td><td>&quot;2011&quot;</td><td>&quot;974&quot;</td><td>3</td><td>null</td><td>null</td><td>null</td><td>null</td></tr><tr><td>2</td><td>&quot;ZYA&quot;</td><td>&quot;2013&quot;</td><td>&quot;44&quot;</td><td>4</td><td>&quot;Loire-Atlantiq…</td><td>&quot;6 912&quot;</td><td>1.682222</td><td>47.361389</td></tr><tr><td>2</td><td>&quot;ZYA&quot;</td><td>&quot;2013&quot;</td><td>&quot;59&quot;</td><td>3</td><td>&quot;Nord&quot;</td><td>&quot;5 751&quot;</td><td>3.220556</td><td>50.447222</td></tr><tr><td>2</td><td>&quot;ZYA&quot;</td><td>&quot;2017&quot;</td><td>&quot;974&quot;</td><td>3</td><td>null</td><td>null</td><td>null</td><td>null</td></tr><tr><td>2</td><td>&quot;ZYA&quot;</td><td>&quot;2018&quot;</td><td>&quot;59&quot;</td><td>3</td><td>&quot;Nord&quot;</td><td>&quot;5 751&quot;</td><td>3.220556</td><td>50.447222</td></tr><tr><td>2</td><td>&quot;ZYA&quot;</td><td>&quot;XXXX&quot;</td><td>&quot;XX&quot;</td><td>264</td><td>null</td><td>null</td><td>null</td><td>null</td></tr><tr><td>2</td><td>&quot;ZYNA&quot;</td><td>&quot;2013&quot;</td><td>&quot;93&quot;</td><td>3</td><td>&quot;Seine-Saint-De…</td><td>&quot;237&quot;</td><td>2.478056</td><td>48.9175</td></tr><tr><td>2</td><td>&quot;ZYNA&quot;</td><td>&quot;XXXX&quot;</td><td>&quot;XX&quot;</td><td>59</td><td>null</td><td>null</td><td>null</td><td>null</td></tr><tr><td>2</td><td>&quot;ZYNEB&quot;</td><td>&quot;XXXX&quot;</td><td>&quot;XX&quot;</td><td>119</td><td>null</td><td>null</td><td>null</td><td>null</td></tr></tbody></table></div>"
      ],
      "text/plain": [
       "shape: (3_727_553, 9)\n",
       "┌──────┬────────────────┬────────┬─────┬───┬───────────────────────┬───────┬───────────┬───────────┐\n",
       "│ sexe ┆ preusuel       ┆ annais ┆ dpt ┆ … ┆ nom                   ┆ aire  ┆ longitude ┆ latitude  │\n",
       "│ ---  ┆ ---            ┆ ---    ┆ --- ┆   ┆ ---                   ┆ ---   ┆ ---       ┆ ---       │\n",
       "│ i64  ┆ str            ┆ str    ┆ str ┆   ┆ str                   ┆ str   ┆ f64       ┆ f64       │\n",
       "╞══════╪════════════════╪════════╪═════╪═══╪═══════════════════════╪═══════╪═══════════╪═══════════╡\n",
       "│ 1    ┆ _PRENOMS_RARES ┆ 1900   ┆ 02  ┆ … ┆ Aisne                 ┆ 7 419 ┆ 3.558333  ┆ 49.559444 │\n",
       "│ 1    ┆ _PRENOMS_RARES ┆ 1900   ┆ 04  ┆ … ┆ Alpes-de-Haute-Proven ┆ 6 996 ┆ 6.243889  ┆ 44.106111 │\n",
       "│      ┆                ┆        ┆     ┆   ┆ ce                    ┆       ┆           ┆           │\n",
       "│ 1    ┆ _PRENOMS_RARES ┆ 1900   ┆ 05  ┆ … ┆ Hautes-Alpes          ┆ 5 689 ┆ 6.263056  ┆ 44.663611 │\n",
       "│ 1    ┆ _PRENOMS_RARES ┆ 1900   ┆ 06  ┆ … ┆ Alpes-Maritimes       ┆ 4 297 ┆ 7.116389  ┆ 43.9375   │\n",
       "│ …    ┆ …              ┆ …      ┆ …   ┆ … ┆ …                     ┆ …     ┆ …         ┆ …         │\n",
       "│ 2    ┆ ZYA            ┆ XXXX   ┆ XX  ┆ … ┆ null                  ┆ null  ┆ null      ┆ null      │\n",
       "│ 2    ┆ ZYNA           ┆ 2013   ┆ 93  ┆ … ┆ Seine-Saint-Denis     ┆ 237   ┆ 2.478056  ┆ 48.9175   │\n",
       "│ 2    ┆ ZYNA           ┆ XXXX   ┆ XX  ┆ … ┆ null                  ┆ null  ┆ null      ┆ null      │\n",
       "│ 2    ┆ ZYNEB          ┆ XXXX   ┆ XX  ┆ … ┆ null                  ┆ null  ┆ null      ┆ null      │\n",
       "└──────┴────────────────┴────────┴─────┴───┴───────────────────────┴───────┴───────────┴───────────┘"
      ]
     },
     "execution_count": 7,
     "metadata": {},
     "output_type": "execute_result"
    }
   ],
   "source": [
    "baby_names_data"
   ]
  },
  {
   "cell_type": "code",
   "execution_count": null,
   "metadata": {},
   "outputs": [],
   "source": []
  }
 ],
 "metadata": {
  "kernelspec": {
   "display_name": "venv",
   "language": "python",
   "name": "python3"
  },
  "language_info": {
   "codemirror_mode": {
    "name": "ipython",
    "version": 3
   },
   "file_extension": ".py",
   "mimetype": "text/x-python",
   "name": "python",
   "nbconvert_exporter": "python",
   "pygments_lexer": "ipython3",
   "version": "3.9.5"
  },
  "orig_nbformat": 4
 },
 "nbformat": 4,
 "nbformat_minor": 2
}
