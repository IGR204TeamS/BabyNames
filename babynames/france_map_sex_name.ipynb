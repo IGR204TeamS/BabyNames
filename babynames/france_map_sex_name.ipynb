{
 "cells": [
  {
   "cell_type": "code",
   "execution_count": 1,
   "metadata": {},
   "outputs": [],
   "source": [
    "import os\n",
    "from utils import load_baby_names_data\n",
    "import altair as alt\n",
    "import pandas as pd\n",
    "import polars as pl"
   ]
  },
  {
   "cell_type": "code",
   "execution_count": 2,
   "metadata": {},
   "outputs": [
    {
     "data": {
      "text/html": [
       "<div><style>\n",
       ".dataframe > thead > tr > th,\n",
       ".dataframe > tbody > tr > td {\n",
       "  text-align: right;\n",
       "}\n",
       "</style>\n",
       "<small>shape: (3_727_553, 9)</small><table border=\"1\" class=\"dataframe\"><thead><tr><th>sexe</th><th>preusuel</th><th>annais</th><th>dpt</th><th>nombre</th><th>nom</th><th>aire</th><th>longitude</th><th>latitude</th></tr><tr><td>i64</td><td>str</td><td>str</td><td>str</td><td>i64</td><td>str</td><td>str</td><td>f64</td><td>f64</td></tr></thead><tbody><tr><td>1</td><td>&quot;_PRENOMS_RARES…</td><td>&quot;1900&quot;</td><td>&quot;02&quot;</td><td>7</td><td>&quot;Aisne&quot;</td><td>&quot;7 419&quot;</td><td>3.558333</td><td>49.559444</td></tr><tr><td>1</td><td>&quot;_PRENOMS_RARES…</td><td>&quot;1900&quot;</td><td>&quot;04&quot;</td><td>9</td><td>&quot;Alpes-de-Haute…</td><td>&quot;6 996&quot;</td><td>6.243889</td><td>44.106111</td></tr><tr><td>1</td><td>&quot;_PRENOMS_RARES…</td><td>&quot;1900&quot;</td><td>&quot;05&quot;</td><td>8</td><td>&quot;Hautes-Alpes&quot;</td><td>&quot;5 689&quot;</td><td>6.263056</td><td>44.663611</td></tr><tr><td>1</td><td>&quot;_PRENOMS_RARES…</td><td>&quot;1900&quot;</td><td>&quot;06&quot;</td><td>23</td><td>&quot;Alpes-Maritime…</td><td>&quot;4 297&quot;</td><td>7.116389</td><td>43.9375</td></tr><tr><td>1</td><td>&quot;_PRENOMS_RARES…</td><td>&quot;1900&quot;</td><td>&quot;07&quot;</td><td>9</td><td>&quot;Ardèche&quot;</td><td>&quot;5 565&quot;</td><td>4.424722</td><td>44.751667</td></tr><tr><td>1</td><td>&quot;_PRENOMS_RARES…</td><td>&quot;1900&quot;</td><td>&quot;08&quot;</td><td>4</td><td>&quot;Ardennes&quot;</td><td>&quot;5 244&quot;</td><td>4.640833</td><td>49.615556</td></tr><tr><td>1</td><td>&quot;_PRENOMS_RARES…</td><td>&quot;1900&quot;</td><td>&quot;09&quot;</td><td>6</td><td>&quot;Ariège&quot;</td><td>&quot;4 908&quot;</td><td>1.503889</td><td>42.920833</td></tr><tr><td>1</td><td>&quot;_PRENOMS_RARES…</td><td>&quot;1900&quot;</td><td>&quot;10&quot;</td><td>3</td><td>&quot;Aube&quot;</td><td>&quot;6 027&quot;</td><td>4.161667</td><td>48.304444</td></tr><tr><td>1</td><td>&quot;_PRENOMS_RARES…</td><td>&quot;1900&quot;</td><td>&quot;11&quot;</td><td>11</td><td>&quot;Aude&quot;</td><td>&quot;6 345&quot;</td><td>2.414167</td><td>43.103333</td></tr><tr><td>1</td><td>&quot;_PRENOMS_RARES…</td><td>&quot;1900&quot;</td><td>&quot;12&quot;</td><td>7</td><td>&quot;Aveyron&quot;</td><td>&quot;8 774&quot;</td><td>2.679722</td><td>44.280278</td></tr><tr><td>1</td><td>&quot;_PRENOMS_RARES…</td><td>&quot;1900&quot;</td><td>&quot;13&quot;</td><td>37</td><td>&quot;Bouches-du-Rhô…</td><td>&quot;5 247&quot;</td><td>5.086389</td><td>43.543333</td></tr><tr><td>1</td><td>&quot;_PRENOMS_RARES…</td><td>&quot;1900&quot;</td><td>&quot;16&quot;</td><td>13</td><td>&quot;Charente&quot;</td><td>&quot;5 974&quot;</td><td>0.201667</td><td>45.718056</td></tr><tr><td>&hellip;</td><td>&hellip;</td><td>&hellip;</td><td>&hellip;</td><td>&hellip;</td><td>&hellip;</td><td>&hellip;</td><td>&hellip;</td><td>&hellip;</td></tr><tr><td>2</td><td>&quot;ZUZANNA&quot;</td><td>&quot;XXXX&quot;</td><td>&quot;XX&quot;</td><td>123</td><td>null</td><td>null</td><td>null</td><td>null</td></tr><tr><td>2</td><td>&quot;ZYA&quot;</td><td>&quot;2011&quot;</td><td>&quot;85&quot;</td><td>4</td><td>&quot;Vendée&quot;</td><td>&quot;6 774&quot;</td><td>1.297778</td><td>46.674722</td></tr><tr><td>2</td><td>&quot;ZYA&quot;</td><td>&quot;2011&quot;</td><td>&quot;91&quot;</td><td>3</td><td>&quot;Essonne&quot;</td><td>&quot;1 819&quot;</td><td>2.243056</td><td>48.522222</td></tr><tr><td>2</td><td>&quot;ZYA&quot;</td><td>&quot;2011&quot;</td><td>&quot;974&quot;</td><td>3</td><td>null</td><td>null</td><td>null</td><td>null</td></tr><tr><td>2</td><td>&quot;ZYA&quot;</td><td>&quot;2013&quot;</td><td>&quot;44&quot;</td><td>4</td><td>&quot;Loire-Atlantiq…</td><td>&quot;6 912&quot;</td><td>1.682222</td><td>47.361389</td></tr><tr><td>2</td><td>&quot;ZYA&quot;</td><td>&quot;2013&quot;</td><td>&quot;59&quot;</td><td>3</td><td>&quot;Nord&quot;</td><td>&quot;5 751&quot;</td><td>3.220556</td><td>50.447222</td></tr><tr><td>2</td><td>&quot;ZYA&quot;</td><td>&quot;2017&quot;</td><td>&quot;974&quot;</td><td>3</td><td>null</td><td>null</td><td>null</td><td>null</td></tr><tr><td>2</td><td>&quot;ZYA&quot;</td><td>&quot;2018&quot;</td><td>&quot;59&quot;</td><td>3</td><td>&quot;Nord&quot;</td><td>&quot;5 751&quot;</td><td>3.220556</td><td>50.447222</td></tr><tr><td>2</td><td>&quot;ZYA&quot;</td><td>&quot;XXXX&quot;</td><td>&quot;XX&quot;</td><td>264</td><td>null</td><td>null</td><td>null</td><td>null</td></tr><tr><td>2</td><td>&quot;ZYNA&quot;</td><td>&quot;2013&quot;</td><td>&quot;93&quot;</td><td>3</td><td>&quot;Seine-Saint-De…</td><td>&quot;237&quot;</td><td>2.478056</td><td>48.9175</td></tr><tr><td>2</td><td>&quot;ZYNA&quot;</td><td>&quot;XXXX&quot;</td><td>&quot;XX&quot;</td><td>59</td><td>null</td><td>null</td><td>null</td><td>null</td></tr><tr><td>2</td><td>&quot;ZYNEB&quot;</td><td>&quot;XXXX&quot;</td><td>&quot;XX&quot;</td><td>119</td><td>null</td><td>null</td><td>null</td><td>null</td></tr></tbody></table></div>"
      ],
      "text/plain": [
       "shape: (3_727_553, 9)\n",
       "┌──────┬────────────────┬────────┬─────┬───┬───────────────────────┬───────┬───────────┬───────────┐\n",
       "│ sexe ┆ preusuel       ┆ annais ┆ dpt ┆ … ┆ nom                   ┆ aire  ┆ longitude ┆ latitude  │\n",
       "│ ---  ┆ ---            ┆ ---    ┆ --- ┆   ┆ ---                   ┆ ---   ┆ ---       ┆ ---       │\n",
       "│ i64  ┆ str            ┆ str    ┆ str ┆   ┆ str                   ┆ str   ┆ f64       ┆ f64       │\n",
       "╞══════╪════════════════╪════════╪═════╪═══╪═══════════════════════╪═══════╪═══════════╪═══════════╡\n",
       "│ 1    ┆ _PRENOMS_RARES ┆ 1900   ┆ 02  ┆ … ┆ Aisne                 ┆ 7 419 ┆ 3.558333  ┆ 49.559444 │\n",
       "│ 1    ┆ _PRENOMS_RARES ┆ 1900   ┆ 04  ┆ … ┆ Alpes-de-Haute-Proven ┆ 6 996 ┆ 6.243889  ┆ 44.106111 │\n",
       "│      ┆                ┆        ┆     ┆   ┆ ce                    ┆       ┆           ┆           │\n",
       "│ 1    ┆ _PRENOMS_RARES ┆ 1900   ┆ 05  ┆ … ┆ Hautes-Alpes          ┆ 5 689 ┆ 6.263056  ┆ 44.663611 │\n",
       "│ 1    ┆ _PRENOMS_RARES ┆ 1900   ┆ 06  ┆ … ┆ Alpes-Maritimes       ┆ 4 297 ┆ 7.116389  ┆ 43.9375   │\n",
       "│ …    ┆ …              ┆ …      ┆ …   ┆ … ┆ …                     ┆ …     ┆ …         ┆ …         │\n",
       "│ 2    ┆ ZYA            ┆ XXXX   ┆ XX  ┆ … ┆ null                  ┆ null  ┆ null      ┆ null      │\n",
       "│ 2    ┆ ZYNA           ┆ 2013   ┆ 93  ┆ … ┆ Seine-Saint-Denis     ┆ 237   ┆ 2.478056  ┆ 48.9175   │\n",
       "│ 2    ┆ ZYNA           ┆ XXXX   ┆ XX  ┆ … ┆ null                  ┆ null  ┆ null      ┆ null      │\n",
       "│ 2    ┆ ZYNEB          ┆ XXXX   ┆ XX  ┆ … ┆ null                  ┆ null  ┆ null      ┆ null      │\n",
       "└──────┴────────────────┴────────┴─────┴───┴───────────────────────┴───────┴───────────┴───────────┘"
      ]
     },
     "execution_count": 2,
     "metadata": {},
     "output_type": "execute_result"
    }
   ],
   "source": [
    "df = load_baby_names_data()\n",
    "df"
   ]
  },
  {
   "cell_type": "code",
   "execution_count": 3,
   "metadata": {},
   "outputs": [],
   "source": [
    "preusuel_sexe = df.groupby([\"preusuel\", \"sexe\"], maintain_order=True).count()\n",
    "preusuel_sexe = preusuel_sexe.groupby(\"preusuel\").count()\n",
    "preusuel_unisex = preusuel_sexe.with_columns((pl.col('count')>1).alias('unisex'))\n",
    "df = df.join(preusuel_unisex, on='preusuel', how='left')"
   ]
  },
  {
   "cell_type": "code",
   "execution_count": 4,
   "metadata": {},
   "outputs": [],
   "source": [
    "df = df.with_columns((pl.col(\"sexe\").cast(pl.Utf8) + '_' + pl.col('unisex').cast(pl.Utf8)).alias('sexe_unisex'))"
   ]
  },
  {
   "attachments": {},
   "cell_type": "markdown",
   "metadata": {},
   "source": [
    "We should also add a threshold on the unisex names. So that a name with only one occurence within another sex is not considered as unisex.\n",
    "\n",
    "This should reduce the amount of names considered unisex. There might be a lot with the exceptions !"
   ]
  },
  {
   "cell_type": "code",
   "execution_count": 5,
   "metadata": {},
   "outputs": [],
   "source": [
    "# Filter data for the department \"Aisne\"\n",
    "df_aisne = df.filter(pl.col('dpt') == '02')"
   ]
  },
  {
   "cell_type": "code",
   "execution_count": 6,
   "metadata": {},
   "outputs": [],
   "source": [
    "# Pivot the DataFrame\n",
    "df_pivot = df_aisne.pivot(values='nombre', index='annais', columns=['sexe', 'sexe_unisex'], aggregate_function='sum')"
   ]
  },
  {
   "cell_type": "code",
   "execution_count": 7,
   "metadata": {},
   "outputs": [],
   "source": [
    "# Calculate part of male population with unisex name, part of female population with unisex name\n",
    "df_pivot = df_pivot.with_columns([(-100 * pl.col('1_true')/pl.col('1')).alias('homme_unisexe'), \n",
    "                       (-100 * pl.col('1_false')/pl.col('1')).alias('homme_seulmt'), \n",
    "                       (100 * pl.col('2_true')/pl.col('2')).alias('femme_unisexe'), \n",
    "                       (100 * pl.col('2_false')/pl.col('2')).alias('femme_seulmt')])"
   ]
  },
  {
   "attachments": {},
   "cell_type": "markdown",
   "metadata": {},
   "source": [
    "In order to create a stacked bar chart we must go back to a long format."
   ]
  },
  {
   "cell_type": "code",
   "execution_count": 8,
   "metadata": {},
   "outputs": [],
   "source": [
    "df_bar = df_pivot.melt(id_vars=\"annais\", value_vars=['homme_unisexe', 'homme_seulmt', 'femme_unisexe', 'femme_seulmt'], variable_name='categorie_nom_sexe')"
   ]
  },
  {
   "cell_type": "code",
   "execution_count": 9,
   "metadata": {},
   "outputs": [],
   "source": [
    "# Create a stacked bar chart\n",
    "# cf https://altair-viz.github.io/gallery/stacked_bar_chart.html\n",
    "# x axis years\n",
    "# y axis all the percentages\n",
    "chart = alt.Chart(df_bar).mark_bar().encode(\n",
    "    x=alt.X('annais:O', title='Year'),\n",
    "    y=alt.Y('sum(value):Q'),\n",
    "    color=alt.Color('categorie_nom_sexe:N')\n",
    ")"
   ]
  },
  {
   "attachments": {},
   "cell_type": "markdown",
   "metadata": {},
   "source": [
    "We are ready to make a stacked bar plot representing for each year the part of the male population with unisex name and part of the female population with unisex name. "
   ]
  },
  {
   "cell_type": "code",
   "execution_count": 10,
   "metadata": {},
   "outputs": [
    {
     "data": {
      "text/html": [
       "\n",
       "<style>\n",
       "  #altair-viz-f86265a836dd4b70bb67cb644185df93.vega-embed {\n",
       "    width: 100%;\n",
       "    display: flex;\n",
       "  }\n",
       "\n",
       "  #altair-viz-f86265a836dd4b70bb67cb644185df93.vega-embed details,\n",
       "  #altair-viz-f86265a836dd4b70bb67cb644185df93.vega-embed details summary {\n",
       "    position: relative;\n",
       "  }\n",
       "</style>\n",
       "<div id=\"altair-viz-f86265a836dd4b70bb67cb644185df93\"></div>\n",
       "<script type=\"text/javascript\">\n",
       "  var VEGA_DEBUG = (typeof VEGA_DEBUG == \"undefined\") ? {} : VEGA_DEBUG;\n",
       "  (function(spec, embedOpt){\n",
       "    let outputDiv = document.currentScript.previousElementSibling;\n",
       "    if (outputDiv.id !== \"altair-viz-f86265a836dd4b70bb67cb644185df93\") {\n",
       "      outputDiv = document.getElementById(\"altair-viz-f86265a836dd4b70bb67cb644185df93\");\n",
       "    }\n",
       "    const paths = {\n",
       "      \"vega\": \"https://cdn.jsdelivr.net/npm/vega@5?noext\",\n",
       "      \"vega-lib\": \"https://cdn.jsdelivr.net/npm/vega-lib?noext\",\n",
       "      \"vega-lite\": \"https://cdn.jsdelivr.net/npm/vega-lite@5.8.0?noext\",\n",
       "      \"vega-embed\": \"https://cdn.jsdelivr.net/npm/vega-embed@6?noext\",\n",
       "    };\n",
       "\n",
       "    function maybeLoadScript(lib, version) {\n",
       "      var key = `${lib.replace(\"-\", \"\")}_version`;\n",
       "      return (VEGA_DEBUG[key] == version) ?\n",
       "        Promise.resolve(paths[lib]) :\n",
       "        new Promise(function(resolve, reject) {\n",
       "          var s = document.createElement('script');\n",
       "          document.getElementsByTagName(\"head\")[0].appendChild(s);\n",
       "          s.async = true;\n",
       "          s.onload = () => {\n",
       "            VEGA_DEBUG[key] = version;\n",
       "            return resolve(paths[lib]);\n",
       "          };\n",
       "          s.onerror = () => reject(`Error loading script: ${paths[lib]}`);\n",
       "          s.src = paths[lib];\n",
       "        });\n",
       "    }\n",
       "\n",
       "    function showError(err) {\n",
       "      outputDiv.innerHTML = `<div class=\"error\" style=\"color:red;\">${err}</div>`;\n",
       "      throw err;\n",
       "    }\n",
       "\n",
       "    function displayChart(vegaEmbed) {\n",
       "      vegaEmbed(outputDiv, spec, embedOpt)\n",
       "        .catch(err => showError(`Javascript Error: ${err.message}<br>This usually means there's a typo in your chart specification. See the javascript console for the full traceback.`));\n",
       "    }\n",
       "\n",
       "    if(typeof define === \"function\" && define.amd) {\n",
       "      requirejs.config({paths});\n",
       "      require([\"vega-embed\"], displayChart, err => showError(`Error loading script: ${err.message}`));\n",
       "    } else {\n",
       "      maybeLoadScript(\"vega\", \"5\")\n",
       "        .then(() => maybeLoadScript(\"vega-lite\", \"5.8.0\"))\n",
       "        .then(() => maybeLoadScript(\"vega-embed\", \"6\"))\n",
       "        .catch(showError)\n",
       "        .then(() => displayChart(vegaEmbed));\n",
       "    }\n",
       "  })({\"config\": {\"view\": {\"continuousWidth\": 300, \"continuousHeight\": 300}}, \"data\": {\"name\": \"data-67772c314daded68e90792c73fcfe55f\"}, \"mark\": {\"type\": \"bar\"}, \"encoding\": {\"color\": {\"field\": \"categorie_nom_sexe\", \"type\": \"nominal\"}, \"x\": {\"field\": \"annais\", \"title\": \"Year\", \"type\": \"ordinal\"}, \"y\": {\"aggregate\": \"sum\", \"field\": \"value\", \"type\": \"quantitative\"}}, \"$schema\": \"https://vega.github.io/schema/vega-lite/v5.8.0.json\", \"datasets\": {\"data-67772c314daded68e90792c73fcfe55f\": [{\"annais\": \"1900\", \"categorie_nom_sexe\": \"homme_unisexe\", \"value\": -97.9639055992596}, {\"annais\": \"1901\", \"categorie_nom_sexe\": \"homme_unisexe\", \"value\": -98.19327731092437}, {\"annais\": \"1902\", \"categorie_nom_sexe\": \"homme_unisexe\", \"value\": -97.66899766899768}, {\"annais\": \"1903\", \"categorie_nom_sexe\": \"homme_unisexe\", \"value\": -97.08431836091411}, {\"annais\": \"1904\", \"categorie_nom_sexe\": \"homme_unisexe\", \"value\": -98.27387802071347}, {\"annais\": \"1905\", \"categorie_nom_sexe\": \"homme_unisexe\", \"value\": -97.73318468970643}, {\"annais\": \"1906\", \"categorie_nom_sexe\": \"homme_unisexe\", \"value\": -97.42388758782201}, {\"annais\": \"1907\", \"categorie_nom_sexe\": \"homme_unisexe\", \"value\": -97.35304228257134}, {\"annais\": \"1908\", \"categorie_nom_sexe\": \"homme_unisexe\", \"value\": -98.36387434554973}, {\"annais\": \"1909\", \"categorie_nom_sexe\": \"homme_unisexe\", \"value\": -97.57071547420965}, {\"annais\": \"1910\", \"categorie_nom_sexe\": \"homme_unisexe\", \"value\": -97.73432650527623}, {\"annais\": \"1911\", \"categorie_nom_sexe\": \"homme_unisexe\", \"value\": -97.51958224543081}, {\"annais\": \"1912\", \"categorie_nom_sexe\": \"homme_unisexe\", \"value\": -97.4086793630971}, {\"annais\": \"1913\", \"categorie_nom_sexe\": \"homme_unisexe\", \"value\": -97.53499695678637}, {\"annais\": \"1914\", \"categorie_nom_sexe\": \"homme_unisexe\", \"value\": -98.1787521079258}, {\"annais\": \"1915\", \"categorie_nom_sexe\": \"homme_unisexe\", \"value\": -98.39189994044074}, {\"annais\": \"1916\", \"categorie_nom_sexe\": \"homme_unisexe\", \"value\": -98.39203675344564}, {\"annais\": \"1917\", \"categorie_nom_sexe\": \"homme_unisexe\", \"value\": -99.03006789524733}, {\"annais\": \"1918\", \"categorie_nom_sexe\": \"homme_unisexe\", \"value\": -98.89502762430939}, {\"annais\": \"1920\", \"categorie_nom_sexe\": \"homme_unisexe\", \"value\": -98.92014776925262}, {\"annais\": \"1921\", \"categorie_nom_sexe\": \"homme_unisexe\", \"value\": -98.4571129707113}, {\"annais\": \"1922\", \"categorie_nom_sexe\": \"homme_unisexe\", \"value\": -98.25317061497967}, {\"annais\": \"1923\", \"categorie_nom_sexe\": \"homme_unisexe\", \"value\": -98.67861142217245}, {\"annais\": \"1924\", \"categorie_nom_sexe\": \"homme_unisexe\", \"value\": -98.64061172472387}, {\"annais\": \"1925\", \"categorie_nom_sexe\": \"homme_unisexe\", \"value\": -98.05931094635848}, {\"annais\": \"1926\", \"categorie_nom_sexe\": \"homme_unisexe\", \"value\": -98.20075757575758}, {\"annais\": \"1927\", \"categorie_nom_sexe\": \"homme_unisexe\", \"value\": -97.83653846153847}, {\"annais\": \"1928\", \"categorie_nom_sexe\": \"homme_unisexe\", \"value\": -98.19189971070395}, {\"annais\": \"1929\", \"categorie_nom_sexe\": \"homme_unisexe\", \"value\": -98.486328125}, {\"annais\": \"1930\", \"categorie_nom_sexe\": \"homme_unisexe\", \"value\": -98.08679421371909}, {\"annais\": \"1931\", \"categorie_nom_sexe\": \"homme_unisexe\", \"value\": -97.67554479418887}, {\"annais\": \"1932\", \"categorie_nom_sexe\": \"homme_unisexe\", \"value\": -97.98228346456693}, {\"annais\": \"1933\", \"categorie_nom_sexe\": \"homme_unisexe\", \"value\": -97.58842443729904}, {\"annais\": \"1934\", \"categorie_nom_sexe\": \"homme_unisexe\", \"value\": -97.35116706005769}, {\"annais\": \"1935\", \"categorie_nom_sexe\": \"homme_unisexe\", \"value\": -96.89370190937589}, {\"annais\": \"1936\", \"categorie_nom_sexe\": \"homme_unisexe\", \"value\": -97.9861910241657}, {\"annais\": \"1937\", \"categorie_nom_sexe\": \"homme_unisexe\", \"value\": -97.63667425968109}, {\"annais\": \"1938\", \"categorie_nom_sexe\": \"homme_unisexe\", \"value\": -96.97493517718237}, {\"annais\": \"1939\", \"categorie_nom_sexe\": \"homme_unisexe\", \"value\": -96.44655019247853}, {\"annais\": \"1940\", \"categorie_nom_sexe\": \"homme_unisexe\", \"value\": -95.1007326007326}, {\"annais\": \"1941\", \"categorie_nom_sexe\": \"homme_unisexe\", \"value\": -93.0341280972417}, {\"annais\": \"1942\", \"categorie_nom_sexe\": \"homme_unisexe\", \"value\": -92.36311239193084}, {\"annais\": \"1943\", \"categorie_nom_sexe\": \"homme_unisexe\", \"value\": -89.69235648588646}, {\"annais\": \"1944\", \"categorie_nom_sexe\": \"homme_unisexe\", \"value\": -87.79369627507164}, {\"annais\": \"1945\", \"categorie_nom_sexe\": \"homme_unisexe\", \"value\": -87.02611625947767}, {\"annais\": \"1946\", \"categorie_nom_sexe\": \"homme_unisexe\", \"value\": -90.5533528701948}, {\"annais\": \"1947\", \"categorie_nom_sexe\": \"homme_unisexe\", \"value\": -89.26140231449966}, {\"annais\": \"1948\", \"categorie_nom_sexe\": \"homme_unisexe\", \"value\": -87.17077315208157}, {\"annais\": \"1949\", \"categorie_nom_sexe\": \"homme_unisexe\", \"value\": -89.46407831425253}, {\"annais\": \"1950\", \"categorie_nom_sexe\": \"homme_unisexe\", \"value\": -83.27924850555081}, {\"annais\": \"1951\", \"categorie_nom_sexe\": \"homme_unisexe\", \"value\": -89.2013110229429}, {\"annais\": \"1952\", \"categorie_nom_sexe\": \"homme_unisexe\", \"value\": -85.32627865961199}, {\"annais\": \"1953\", \"categorie_nom_sexe\": \"homme_unisexe\", \"value\": -87.12871287128714}, {\"annais\": \"1954\", \"categorie_nom_sexe\": \"homme_unisexe\", \"value\": -88.57142857142857}, {\"annais\": \"1955\", \"categorie_nom_sexe\": \"homme_unisexe\", \"value\": -86.2490733876946}, {\"annais\": \"1956\", \"categorie_nom_sexe\": \"homme_unisexe\", \"value\": -82.71251193887296}, {\"annais\": \"1957\", \"categorie_nom_sexe\": \"homme_unisexe\", \"value\": -82.80121626757887}, {\"annais\": \"1958\", \"categorie_nom_sexe\": \"homme_unisexe\", \"value\": -81.71685569026202}, {\"annais\": \"1959\", \"categorie_nom_sexe\": \"homme_unisexe\", \"value\": -81.95084485407067}, {\"annais\": \"1960\", \"categorie_nom_sexe\": \"homme_unisexe\", \"value\": -79.86563920173879}, {\"annais\": \"1961\", \"categorie_nom_sexe\": \"homme_unisexe\", \"value\": -79.9622641509434}, {\"annais\": \"1962\", \"categorie_nom_sexe\": \"homme_unisexe\", \"value\": -80.15952143569292}, {\"annais\": \"1963\", \"categorie_nom_sexe\": \"homme_unisexe\", \"value\": -80.77145612343298}, {\"annais\": \"1964\", \"categorie_nom_sexe\": \"homme_unisexe\", \"value\": -79.53929539295393}, {\"annais\": \"1965\", \"categorie_nom_sexe\": \"homme_unisexe\", \"value\": -78.29306313328136}, {\"annais\": \"1966\", \"categorie_nom_sexe\": \"homme_unisexe\", \"value\": -79.47666471392306}, {\"annais\": \"1967\", \"categorie_nom_sexe\": \"homme_unisexe\", \"value\": -81.68358714043993}, {\"annais\": \"1968\", \"categorie_nom_sexe\": \"homme_unisexe\", \"value\": -79.45115257958288}, {\"annais\": \"1969\", \"categorie_nom_sexe\": \"homme_unisexe\", \"value\": -81.77671589921808}, {\"annais\": \"1970\", \"categorie_nom_sexe\": \"homme_unisexe\", \"value\": -81.36232527179942}, {\"annais\": \"1971\", \"categorie_nom_sexe\": \"homme_unisexe\", \"value\": -79.48663101604278}, {\"annais\": \"1972\", \"categorie_nom_sexe\": \"homme_unisexe\", \"value\": -80.68669527896996}, {\"annais\": \"1973\", \"categorie_nom_sexe\": \"homme_unisexe\", \"value\": -79.16945746818486}, {\"annais\": \"1974\", \"categorie_nom_sexe\": \"homme_unisexe\", \"value\": -77.58293838862559}, {\"annais\": \"1975\", \"categorie_nom_sexe\": \"homme_unisexe\", \"value\": -77.67393561786085}, {\"annais\": \"1976\", \"categorie_nom_sexe\": \"homme_unisexe\", \"value\": -75.90163934426229}, {\"annais\": \"1977\", \"categorie_nom_sexe\": \"homme_unisexe\", \"value\": -74.00579404793258}, {\"annais\": \"1978\", \"categorie_nom_sexe\": \"homme_unisexe\", \"value\": -72.86620530565168}, {\"annais\": \"1979\", \"categorie_nom_sexe\": \"homme_unisexe\", \"value\": -71.58577878103837}, {\"annais\": \"1980\", \"categorie_nom_sexe\": \"homme_unisexe\", \"value\": -72.31311351623458}, {\"annais\": \"1981\", \"categorie_nom_sexe\": \"homme_unisexe\", \"value\": -71.73144876325088}, {\"annais\": \"1982\", \"categorie_nom_sexe\": \"homme_unisexe\", \"value\": -69.629057187017}, {\"annais\": \"1983\", \"categorie_nom_sexe\": \"homme_unisexe\", \"value\": -68.7535734705546}, {\"annais\": \"1984\", \"categorie_nom_sexe\": \"homme_unisexe\", \"value\": -67.08298640022204}, {\"annais\": \"1985\", \"categorie_nom_sexe\": \"homme_unisexe\", \"value\": -66.42355483522421}, {\"annais\": \"1986\", \"categorie_nom_sexe\": \"homme_unisexe\", \"value\": -67.4993284985227}, {\"annais\": \"1987\", \"categorie_nom_sexe\": \"homme_unisexe\", \"value\": -68.38638858397366}, {\"annais\": \"1988\", \"categorie_nom_sexe\": \"homme_unisexe\", \"value\": -67.25738396624473}, {\"annais\": \"1989\", \"categorie_nom_sexe\": \"homme_unisexe\", \"value\": -67.87196206283343}, {\"annais\": \"1990\", \"categorie_nom_sexe\": \"homme_unisexe\", \"value\": -68.21637426900585}, {\"annais\": \"1991\", \"categorie_nom_sexe\": \"homme_unisexe\", \"value\": -69.62406015037594}, {\"annais\": \"1992\", \"categorie_nom_sexe\": \"homme_unisexe\", \"value\": -69.57440386356777}, {\"annais\": \"1993\", \"categorie_nom_sexe\": \"homme_unisexe\", \"value\": -71.16384915474643}, {\"annais\": \"1994\", \"categorie_nom_sexe\": \"homme_unisexe\", \"value\": -69.38263867126292}, {\"annais\": \"1995\", \"categorie_nom_sexe\": \"homme_unisexe\", \"value\": -70.61317677756034}, {\"annais\": \"1996\", \"categorie_nom_sexe\": \"homme_unisexe\", \"value\": -69.27973199329983}, {\"annais\": \"1997\", \"categorie_nom_sexe\": \"homme_unisexe\", \"value\": -69.6547144754316}, {\"annais\": \"1998\", \"categorie_nom_sexe\": \"homme_unisexe\", \"value\": -69.63262554769128}, {\"annais\": \"1999\", \"categorie_nom_sexe\": \"homme_unisexe\", \"value\": -67.96977660972405}, {\"annais\": \"2000\", \"categorie_nom_sexe\": \"homme_unisexe\", \"value\": -67.14146973130462}, {\"annais\": \"2001\", \"categorie_nom_sexe\": \"homme_unisexe\", \"value\": -67.54234358797096}, {\"annais\": \"2002\", \"categorie_nom_sexe\": \"homme_unisexe\", \"value\": -67.86461967899511}, {\"annais\": \"2003\", \"categorie_nom_sexe\": \"homme_unisexe\", \"value\": -65.57971014492753}, {\"annais\": \"2004\", \"categorie_nom_sexe\": \"homme_unisexe\", \"value\": -66.49056603773585}, {\"annais\": \"2005\", \"categorie_nom_sexe\": \"homme_unisexe\", \"value\": -63.84558277654046}, {\"annais\": \"2006\", \"categorie_nom_sexe\": \"homme_unisexe\", \"value\": -65.36438767843727}, {\"annais\": \"2007\", \"categorie_nom_sexe\": \"homme_unisexe\", \"value\": -67.47226624405705}, {\"annais\": \"2008\", \"categorie_nom_sexe\": \"homme_unisexe\", \"value\": -66.9047619047619}, {\"annais\": \"2009\", \"categorie_nom_sexe\": \"homme_unisexe\", \"value\": -66.84274685087362}, {\"annais\": \"2010\", \"categorie_nom_sexe\": \"homme_unisexe\", \"value\": -65.91184795794581}, {\"annais\": \"2011\", \"categorie_nom_sexe\": \"homme_unisexe\", \"value\": -68.38905775075987}, {\"annais\": \"2012\", \"categorie_nom_sexe\": \"homme_unisexe\", \"value\": -68.954688200987}, {\"annais\": \"2013\", \"categorie_nom_sexe\": \"homme_unisexe\", \"value\": -69.34763181411975}, {\"annais\": \"2014\", \"categorie_nom_sexe\": \"homme_unisexe\", \"value\": -68.39107736117703}, {\"annais\": \"2015\", \"categorie_nom_sexe\": \"homme_unisexe\", \"value\": -69.66346153846153}, {\"annais\": \"2016\", \"categorie_nom_sexe\": \"homme_unisexe\", \"value\": -74.17582417582418}, {\"annais\": \"2017\", \"categorie_nom_sexe\": \"homme_unisexe\", \"value\": -70.8442579968537}, {\"annais\": \"2018\", \"categorie_nom_sexe\": \"homme_unisexe\", \"value\": -71.7948717948718}, {\"annais\": \"2019\", \"categorie_nom_sexe\": \"homme_unisexe\", \"value\": -70.9735576923077}, {\"annais\": \"2020\", \"categorie_nom_sexe\": \"homme_unisexe\", \"value\": -69.6029776674938}, {\"annais\": \"1919\", \"categorie_nom_sexe\": \"homme_unisexe\", \"value\": -98.38212634822804}, {\"annais\": \"1900\", \"categorie_nom_sexe\": \"homme_seulmt\", \"value\": -2.036094400740398}, {\"annais\": \"1901\", \"categorie_nom_sexe\": \"homme_seulmt\", \"value\": -1.8067226890756303}, {\"annais\": \"1902\", \"categorie_nom_sexe\": \"homme_seulmt\", \"value\": -2.331002331002331}, {\"annais\": \"1903\", \"categorie_nom_sexe\": \"homme_seulmt\", \"value\": -2.9156816390858946}, {\"annais\": \"1904\", \"categorie_nom_sexe\": \"homme_seulmt\", \"value\": -1.7261219792865363}, {\"annais\": \"1905\", \"categorie_nom_sexe\": \"homme_seulmt\", \"value\": -2.266815310293571}, {\"annais\": \"1906\", \"categorie_nom_sexe\": \"homme_seulmt\", \"value\": -2.576112412177986}, {\"annais\": \"1907\", \"categorie_nom_sexe\": \"homme_seulmt\", \"value\": -2.64695771742867}, {\"annais\": \"1908\", \"categorie_nom_sexe\": \"homme_seulmt\", \"value\": -1.6361256544502618}, {\"annais\": \"1909\", \"categorie_nom_sexe\": \"homme_seulmt\", \"value\": -2.4292845257903495}, {\"annais\": \"1910\", \"categorie_nom_sexe\": \"homme_seulmt\", \"value\": -2.265673494723774}, {\"annais\": \"1911\", \"categorie_nom_sexe\": \"homme_seulmt\", \"value\": -2.480417754569191}, {\"annais\": \"1912\", \"categorie_nom_sexe\": \"homme_seulmt\", \"value\": -2.5913206369029034}, {\"annais\": \"1913\", \"categorie_nom_sexe\": \"homme_seulmt\", \"value\": -2.4650030432136334}, {\"annais\": \"1914\", \"categorie_nom_sexe\": \"homme_seulmt\", \"value\": -1.821247892074199}, {\"annais\": \"1915\", \"categorie_nom_sexe\": \"homme_seulmt\", \"value\": -1.6081000595592614}, {\"annais\": \"1916\", \"categorie_nom_sexe\": \"homme_seulmt\", \"value\": -1.6079632465543645}, {\"annais\": \"1917\", \"categorie_nom_sexe\": \"homme_seulmt\", \"value\": -0.9699321047526673}, {\"annais\": \"1918\", \"categorie_nom_sexe\": \"homme_seulmt\", \"value\": -1.1049723756906078}, {\"annais\": \"1920\", \"categorie_nom_sexe\": \"homme_seulmt\", \"value\": -1.0798522307473715}, {\"annais\": \"1921\", \"categorie_nom_sexe\": \"homme_seulmt\", \"value\": -1.542887029288703}, {\"annais\": \"1922\", \"categorie_nom_sexe\": \"homme_seulmt\", \"value\": -1.7468293850203398}, {\"annais\": \"1923\", \"categorie_nom_sexe\": \"homme_seulmt\", \"value\": -1.3213885778275476}, {\"annais\": \"1924\", \"categorie_nom_sexe\": \"homme_seulmt\", \"value\": -1.3593882752761257}, {\"annais\": \"1925\", \"categorie_nom_sexe\": \"homme_seulmt\", \"value\": -1.9406890536415176}, {\"annais\": \"1926\", \"categorie_nom_sexe\": \"homme_seulmt\", \"value\": -1.7992424242424243}, {\"annais\": \"1927\", \"categorie_nom_sexe\": \"homme_seulmt\", \"value\": -2.1634615384615383}, {\"annais\": \"1928\", \"categorie_nom_sexe\": \"homme_seulmt\", \"value\": -1.8081002892960463}, {\"annais\": \"1929\", \"categorie_nom_sexe\": \"homme_seulmt\", \"value\": -1.513671875}, {\"annais\": \"1930\", \"categorie_nom_sexe\": \"homme_seulmt\", \"value\": -1.9132057862809146}, {\"annais\": \"1931\", \"categorie_nom_sexe\": \"homme_seulmt\", \"value\": -2.324455205811138}, {\"annais\": \"1932\", \"categorie_nom_sexe\": \"homme_seulmt\", \"value\": -2.017716535433071}, {\"annais\": \"1933\", \"categorie_nom_sexe\": \"homme_seulmt\", \"value\": -2.4115755627009645}, {\"annais\": \"1934\", \"categorie_nom_sexe\": \"homme_seulmt\", \"value\": -2.6488329399423027}, {\"annais\": \"1935\", \"categorie_nom_sexe\": \"homme_seulmt\", \"value\": -3.1062980906241093}, {\"annais\": \"1936\", \"categorie_nom_sexe\": \"homme_seulmt\", \"value\": -2.013808975834292}, {\"annais\": \"1937\", \"categorie_nom_sexe\": \"homme_seulmt\", \"value\": -2.3633257403189067}, {\"annais\": \"1938\", \"categorie_nom_sexe\": \"homme_seulmt\", \"value\": -3.025064822817632}, {\"annais\": \"1939\", \"categorie_nom_sexe\": \"homme_seulmt\", \"value\": -3.553449807521469}, {\"annais\": \"1940\", \"categorie_nom_sexe\": \"homme_seulmt\", \"value\": -4.8992673992674}, {\"annais\": \"1941\", \"categorie_nom_sexe\": \"homme_seulmt\", \"value\": -6.965871902758298}, {\"annais\": \"1942\", \"categorie_nom_sexe\": \"homme_seulmt\", \"value\": -7.636887608069165}, {\"annais\": \"1943\", \"categorie_nom_sexe\": \"homme_seulmt\", \"value\": -10.307643514113543}, {\"annais\": \"1944\", \"categorie_nom_sexe\": \"homme_seulmt\", \"value\": -12.206303724928366}, {\"annais\": \"1945\", \"categorie_nom_sexe\": \"homme_seulmt\", \"value\": -12.973883740522325}, {\"annais\": \"1946\", \"categorie_nom_sexe\": \"homme_seulmt\", \"value\": -9.446647129805205}, {\"annais\": \"1947\", \"categorie_nom_sexe\": \"homme_seulmt\", \"value\": -10.73859768550034}, {\"annais\": \"1948\", \"categorie_nom_sexe\": \"homme_seulmt\", \"value\": -12.829226847918436}, {\"annais\": \"1949\", \"categorie_nom_sexe\": \"homme_seulmt\", \"value\": -10.53592168574747}, {\"annais\": \"1950\", \"categorie_nom_sexe\": \"homme_seulmt\", \"value\": -16.72075149444919}, {\"annais\": \"1951\", \"categorie_nom_sexe\": \"homme_seulmt\", \"value\": -10.798688977057099}, {\"annais\": \"1952\", \"categorie_nom_sexe\": \"homme_seulmt\", \"value\": -14.673721340388006}, {\"annais\": \"1953\", \"categorie_nom_sexe\": \"homme_seulmt\", \"value\": -12.871287128712872}, {\"annais\": \"1954\", \"categorie_nom_sexe\": \"homme_seulmt\", \"value\": -11.428571428571429}, {\"annais\": \"1955\", \"categorie_nom_sexe\": \"homme_seulmt\", \"value\": -13.750926612305411}, {\"annais\": \"1956\", \"categorie_nom_sexe\": \"homme_seulmt\", \"value\": -17.28748806112703}, {\"annais\": \"1957\", \"categorie_nom_sexe\": \"homme_seulmt\", \"value\": -17.198783732421134}, {\"annais\": \"1958\", \"categorie_nom_sexe\": \"homme_seulmt\", \"value\": -18.283144309737974}, {\"annais\": \"1959\", \"categorie_nom_sexe\": \"homme_seulmt\", \"value\": -18.04915514592934}, {\"annais\": \"1960\", \"categorie_nom_sexe\": \"homme_seulmt\", \"value\": -20.134360798261213}, {\"annais\": \"1961\", \"categorie_nom_sexe\": \"homme_seulmt\", \"value\": -20.037735849056602}, {\"annais\": \"1962\", \"categorie_nom_sexe\": \"homme_seulmt\", \"value\": -19.84047856430708}, {\"annais\": \"1963\", \"categorie_nom_sexe\": \"homme_seulmt\", \"value\": -19.22854387656702}, {\"annais\": \"1964\", \"categorie_nom_sexe\": \"homme_seulmt\", \"value\": -20.460704607046072}, {\"annais\": \"1965\", \"categorie_nom_sexe\": \"homme_seulmt\", \"value\": -21.706936866718628}, {\"annais\": \"1966\", \"categorie_nom_sexe\": \"homme_seulmt\", \"value\": -20.52333528607694}, {\"annais\": \"1967\", \"categorie_nom_sexe\": \"homme_seulmt\", \"value\": -18.316412859560067}, {\"annais\": \"1968\", \"categorie_nom_sexe\": \"homme_seulmt\", \"value\": -20.548847420417125}, {\"annais\": \"1969\", \"categorie_nom_sexe\": \"homme_seulmt\", \"value\": -18.223284100781928}, {\"annais\": \"1970\", \"categorie_nom_sexe\": \"homme_seulmt\", \"value\": -18.637674728200576}, {\"annais\": \"1971\", \"categorie_nom_sexe\": \"homme_seulmt\", \"value\": -20.513368983957218}, {\"annais\": \"1972\", \"categorie_nom_sexe\": \"homme_seulmt\", \"value\": -19.313304721030043}, {\"annais\": \"1973\", \"categorie_nom_sexe\": \"homme_seulmt\", \"value\": -20.830542531815137}, {\"annais\": \"1974\", \"categorie_nom_sexe\": \"homme_seulmt\", \"value\": -22.417061611374407}, {\"annais\": \"1975\", \"categorie_nom_sexe\": \"homme_seulmt\", \"value\": -22.326064382139148}, {\"annais\": \"1976\", \"categorie_nom_sexe\": \"homme_seulmt\", \"value\": -24.098360655737704}, {\"annais\": \"1977\", \"categorie_nom_sexe\": \"homme_seulmt\", \"value\": -25.99420595206742}, {\"annais\": \"1978\", \"categorie_nom_sexe\": \"homme_seulmt\", \"value\": -27.133794694348328}, {\"annais\": \"1979\", \"categorie_nom_sexe\": \"homme_seulmt\", \"value\": -28.414221218961625}, {\"annais\": \"1980\", \"categorie_nom_sexe\": \"homme_seulmt\", \"value\": -27.686886483765417}, {\"annais\": \"1981\", \"categorie_nom_sexe\": \"homme_seulmt\", \"value\": -28.268551236749115}, {\"annais\": \"1982\", \"categorie_nom_sexe\": \"homme_seulmt\", \"value\": -30.370942812983}, {\"annais\": \"1983\", \"categorie_nom_sexe\": \"homme_seulmt\", \"value\": -31.246426529445397}, {\"annais\": \"1984\", \"categorie_nom_sexe\": \"homme_seulmt\", \"value\": -32.91701359977796}, {\"annais\": \"1985\", \"categorie_nom_sexe\": \"homme_seulmt\", \"value\": -33.5764451647758}, {\"annais\": \"1986\", \"categorie_nom_sexe\": \"homme_seulmt\", \"value\": -32.500671501477306}, {\"annais\": \"1987\", \"categorie_nom_sexe\": \"homme_seulmt\", \"value\": -31.613611416026345}, {\"annais\": \"1988\", \"categorie_nom_sexe\": \"homme_seulmt\", \"value\": -32.742616033755276}, {\"annais\": \"1989\", \"categorie_nom_sexe\": \"homme_seulmt\", \"value\": -32.12803793716657}, {\"annais\": \"1990\", \"categorie_nom_sexe\": \"homme_seulmt\", \"value\": -31.783625730994153}, {\"annais\": \"1991\", \"categorie_nom_sexe\": \"homme_seulmt\", \"value\": -30.37593984962406}, {\"annais\": \"1992\", \"categorie_nom_sexe\": \"homme_seulmt\", \"value\": -30.425596136432237}, {\"annais\": \"1993\", \"categorie_nom_sexe\": \"homme_seulmt\", \"value\": -28.836150845253577}, {\"annais\": \"1994\", \"categorie_nom_sexe\": \"homme_seulmt\", \"value\": -30.617361328737072}, {\"annais\": \"1995\", \"categorie_nom_sexe\": \"homme_seulmt\", \"value\": -29.38682322243966}, {\"annais\": \"1996\", \"categorie_nom_sexe\": \"homme_seulmt\", \"value\": -30.720268006700167}, {\"annais\": \"1997\", \"categorie_nom_sexe\": \"homme_seulmt\", \"value\": -30.345285524568393}, {\"annais\": \"1998\", \"categorie_nom_sexe\": \"homme_seulmt\", \"value\": -30.36737445230873}, {\"annais\": \"1999\", \"categorie_nom_sexe\": \"homme_seulmt\", \"value\": -32.03022339027595}, {\"annais\": \"2000\", \"categorie_nom_sexe\": \"homme_seulmt\", \"value\": -32.85853026869537}, {\"annais\": \"2001\", \"categorie_nom_sexe\": \"homme_seulmt\", \"value\": -32.45765641202904}, {\"annais\": \"2002\", \"categorie_nom_sexe\": \"homme_seulmt\", \"value\": -32.13538032100489}, {\"annais\": \"2003\", \"categorie_nom_sexe\": \"homme_seulmt\", \"value\": -34.42028985507246}, {\"annais\": \"2004\", \"categorie_nom_sexe\": \"homme_seulmt\", \"value\": -33.509433962264154}, {\"annais\": \"2005\", \"categorie_nom_sexe\": \"homme_seulmt\", \"value\": -36.15441722345954}, {\"annais\": \"2006\", \"categorie_nom_sexe\": \"homme_seulmt\", \"value\": -34.63561232156273}, {\"annais\": \"2007\", \"categorie_nom_sexe\": \"homme_seulmt\", \"value\": -32.52773375594295}, {\"annais\": \"2008\", \"categorie_nom_sexe\": \"homme_seulmt\", \"value\": -33.095238095238095}, {\"annais\": \"2009\", \"categorie_nom_sexe\": \"homme_seulmt\", \"value\": -33.15725314912637}, {\"annais\": \"2010\", \"categorie_nom_sexe\": \"homme_seulmt\", \"value\": -34.08815204205418}, {\"annais\": \"2011\", \"categorie_nom_sexe\": \"homme_seulmt\", \"value\": -31.61094224924012}, {\"annais\": \"2012\", \"categorie_nom_sexe\": \"homme_seulmt\", \"value\": -31.04531179901301}, {\"annais\": \"2013\", \"categorie_nom_sexe\": \"homme_seulmt\", \"value\": -30.65236818588025}, {\"annais\": \"2014\", \"categorie_nom_sexe\": \"homme_seulmt\", \"value\": -31.60892263882297}, {\"annais\": \"2015\", \"categorie_nom_sexe\": \"homme_seulmt\", \"value\": -30.33653846153846}, {\"annais\": \"2016\", \"categorie_nom_sexe\": \"homme_seulmt\", \"value\": -25.824175824175825}, {\"annais\": \"2017\", \"categorie_nom_sexe\": \"homme_seulmt\", \"value\": -29.155742003146305}, {\"annais\": \"2018\", \"categorie_nom_sexe\": \"homme_seulmt\", \"value\": -28.205128205128204}, {\"annais\": \"2019\", \"categorie_nom_sexe\": \"homme_seulmt\", \"value\": -29.026442307692307}, {\"annais\": \"2020\", \"categorie_nom_sexe\": \"homme_seulmt\", \"value\": -30.397022332506204}, {\"annais\": \"1919\", \"categorie_nom_sexe\": \"homme_seulmt\", \"value\": -1.617873651771957}, {\"annais\": \"1900\", \"categorie_nom_sexe\": \"femme_unisexe\", \"value\": 78.59841978701478}, {\"annais\": \"1901\", \"categorie_nom_sexe\": \"femme_unisexe\", \"value\": 80.04455760661999}, {\"annais\": \"1902\", \"categorie_nom_sexe\": \"femme_unisexe\", \"value\": 79.82131854590266}, {\"annais\": \"1903\", \"categorie_nom_sexe\": \"femme_unisexe\", \"value\": 78.01818751959863}, {\"annais\": \"1904\", \"categorie_nom_sexe\": \"femme_unisexe\", \"value\": 77.98329355608593}, {\"annais\": \"1905\", \"categorie_nom_sexe\": \"femme_unisexe\", \"value\": 77.27554179566563}, {\"annais\": \"1906\", \"categorie_nom_sexe\": \"femme_unisexe\", \"value\": 78.60236788911348}, {\"annais\": \"1907\", \"categorie_nom_sexe\": \"femme_unisexe\", \"value\": 76.24133949191686}, {\"annais\": \"1908\", \"categorie_nom_sexe\": \"femme_unisexe\", \"value\": 74.51523545706371}, {\"annais\": \"1909\", \"categorie_nom_sexe\": \"femme_unisexe\", \"value\": 77.26211325160537}, {\"annais\": \"1910\", \"categorie_nom_sexe\": \"femme_unisexe\", \"value\": 75.87982832618026}, {\"annais\": \"1911\", \"categorie_nom_sexe\": \"femme_unisexe\", \"value\": 74.45520581113801}, {\"annais\": \"1912\", \"categorie_nom_sexe\": \"femme_unisexe\", \"value\": 74.03078677309009}, {\"annais\": \"1913\", \"categorie_nom_sexe\": \"femme_unisexe\", \"value\": 74.84995713060874}, {\"annais\": \"1914\", \"categorie_nom_sexe\": \"femme_unisexe\", \"value\": 72.8402932738285}, {\"annais\": \"1915\", \"categorie_nom_sexe\": \"femme_unisexe\", \"value\": 71.33443163097199}, {\"annais\": \"1916\", \"categorie_nom_sexe\": \"femme_unisexe\", \"value\": 72.50172294968986}, {\"annais\": \"1917\", \"categorie_nom_sexe\": \"femme_unisexe\", \"value\": 74.01812688821752}, {\"annais\": \"1918\", \"categorie_nom_sexe\": \"femme_unisexe\", \"value\": 74.51235370611184}, {\"annais\": \"1920\", \"categorie_nom_sexe\": \"femme_unisexe\", \"value\": 69.38775510204081}, {\"annais\": \"1921\", \"categorie_nom_sexe\": \"femme_unisexe\", \"value\": 66.59079413252402}, {\"annais\": \"1922\", \"categorie_nom_sexe\": \"femme_unisexe\", \"value\": 65.11846117757447}, {\"annais\": \"1923\", \"categorie_nom_sexe\": \"femme_unisexe\", \"value\": 62.902881536819635}, {\"annais\": \"1924\", \"categorie_nom_sexe\": \"femme_unisexe\", \"value\": 60.48677248677249}, {\"annais\": \"1925\", \"categorie_nom_sexe\": \"femme_unisexe\", \"value\": 58.29444208739923}, {\"annais\": \"1926\", \"categorie_nom_sexe\": \"femme_unisexe\", \"value\": 55.38783093358105}, {\"annais\": \"1927\", \"categorie_nom_sexe\": \"femme_unisexe\", \"value\": 53.326857697911606}, {\"annais\": \"1928\", \"categorie_nom_sexe\": \"femme_unisexe\", \"value\": 53.376282510140776}, {\"annais\": \"1929\", \"categorie_nom_sexe\": \"femme_unisexe\", \"value\": 50.08530343650987}, {\"annais\": \"1930\", \"categorie_nom_sexe\": \"femme_unisexe\", \"value\": 50.77940481813888}, {\"annais\": \"1931\", \"categorie_nom_sexe\": \"femme_unisexe\", \"value\": 49.00317172632533}, {\"annais\": \"1932\", \"categorie_nom_sexe\": \"femme_unisexe\", \"value\": 49.44812362030905}, {\"annais\": \"1933\", \"categorie_nom_sexe\": \"femme_unisexe\", \"value\": 50.06464959917248}, {\"annais\": \"1934\", \"categorie_nom_sexe\": \"femme_unisexe\", \"value\": 48.522757519297315}, {\"annais\": \"1935\", \"categorie_nom_sexe\": \"femme_unisexe\", \"value\": 49.29201175527652}, {\"annais\": \"1936\", \"categorie_nom_sexe\": \"femme_unisexe\", \"value\": 49.34733257661748}, {\"annais\": \"1937\", \"categorie_nom_sexe\": \"femme_unisexe\", \"value\": 49.8272884283247}, {\"annais\": \"1938\", \"categorie_nom_sexe\": \"femme_unisexe\", \"value\": 47.36998514115899}, {\"annais\": \"1939\", \"categorie_nom_sexe\": \"femme_unisexe\", \"value\": 48.32975789151088}, {\"annais\": \"1940\", \"categorie_nom_sexe\": \"femme_unisexe\", \"value\": 47.99833194328607}, {\"annais\": \"1941\", \"categorie_nom_sexe\": \"femme_unisexe\", \"value\": 49.11694510739857}, {\"annais\": \"1942\", \"categorie_nom_sexe\": \"femme_unisexe\", \"value\": 49.31159420289855}, {\"annais\": \"1943\", \"categorie_nom_sexe\": \"femme_unisexe\", \"value\": 47.91194561346714}, {\"annais\": \"1944\", \"categorie_nom_sexe\": \"femme_unisexe\", \"value\": 49.49970570924073}, {\"annais\": \"1945\", \"categorie_nom_sexe\": \"femme_unisexe\", \"value\": 47.71260174010665}, {\"annais\": \"1946\", \"categorie_nom_sexe\": \"femme_unisexe\", \"value\": 48.96626768226333}, {\"annais\": \"1947\", \"categorie_nom_sexe\": \"femme_unisexe\", \"value\": 48.86527377521614}, {\"annais\": \"1948\", \"categorie_nom_sexe\": \"femme_unisexe\", \"value\": 49.39159292035398}, {\"annais\": \"1949\", \"categorie_nom_sexe\": \"femme_unisexe\", \"value\": 50.713404967412366}, {\"annais\": \"1950\", \"categorie_nom_sexe\": \"femme_unisexe\", \"value\": 51.75627240143369}, {\"annais\": \"1951\", \"categorie_nom_sexe\": \"femme_unisexe\", \"value\": 52.461832061068705}, {\"annais\": \"1952\", \"categorie_nom_sexe\": \"femme_unisexe\", \"value\": 51.941097724230254}, {\"annais\": \"1953\", \"categorie_nom_sexe\": \"femme_unisexe\", \"value\": 52.419674732249106}, {\"annais\": \"1954\", \"categorie_nom_sexe\": \"femme_unisexe\", \"value\": 52.93298866573871}, {\"annais\": \"1955\", \"categorie_nom_sexe\": \"femme_unisexe\", \"value\": 53.476144109055504}, {\"annais\": \"1956\", \"categorie_nom_sexe\": \"femme_unisexe\", \"value\": 54.95039481676453}, {\"annais\": \"1957\", \"categorie_nom_sexe\": \"femme_unisexe\", \"value\": 56.03065752319484}, {\"annais\": \"1958\", \"categorie_nom_sexe\": \"femme_unisexe\", \"value\": 56.91511387163561}, {\"annais\": \"1959\", \"categorie_nom_sexe\": \"femme_unisexe\", \"value\": 56.697435897435895}, {\"annais\": \"1960\", \"categorie_nom_sexe\": \"femme_unisexe\", \"value\": 60.14861995753716}, {\"annais\": \"1961\", \"categorie_nom_sexe\": \"femme_unisexe\", \"value\": 61.00330305532618}, {\"annais\": \"1962\", \"categorie_nom_sexe\": \"femme_unisexe\", \"value\": 61.89658871486805}, {\"annais\": \"1963\", \"categorie_nom_sexe\": \"femme_unisexe\", \"value\": 63.720834193681604}, {\"annais\": \"1964\", \"categorie_nom_sexe\": \"femme_unisexe\", \"value\": 65.56564822460776}, {\"annais\": \"1965\", \"categorie_nom_sexe\": \"femme_unisexe\", \"value\": 67.17382242601084}, {\"annais\": \"1966\", \"categorie_nom_sexe\": \"femme_unisexe\", \"value\": 66.97695035460993}, {\"annais\": \"1967\", \"categorie_nom_sexe\": \"femme_unisexe\", \"value\": 66.5283540802213}, {\"annais\": \"1968\", \"categorie_nom_sexe\": \"femme_unisexe\", \"value\": 63.14699792960663}, {\"annais\": \"1969\", \"categorie_nom_sexe\": \"femme_unisexe\", \"value\": 63.05452865064695}, {\"annais\": \"1970\", \"categorie_nom_sexe\": \"femme_unisexe\", \"value\": 59.86842105263158}, {\"annais\": \"1971\", \"categorie_nom_sexe\": \"femme_unisexe\", \"value\": 58.26790387818225}, {\"annais\": \"1972\", \"categorie_nom_sexe\": \"femme_unisexe\", \"value\": 54.996505939902164}, {\"annais\": \"1973\", \"categorie_nom_sexe\": \"femme_unisexe\", \"value\": 54.26963542941033}, {\"annais\": \"1974\", \"categorie_nom_sexe\": \"femme_unisexe\", \"value\": 52.15137376879212}, {\"annais\": \"1975\", \"categorie_nom_sexe\": \"femme_unisexe\", \"value\": 51.18981737686774}, {\"annais\": \"1976\", \"categorie_nom_sexe\": \"femme_unisexe\", \"value\": 51.111111111111114}, {\"annais\": \"1977\", \"categorie_nom_sexe\": \"femme_unisexe\", \"value\": 49.61854460093897}, {\"annais\": \"1978\", \"categorie_nom_sexe\": \"femme_unisexe\", \"value\": 49.305769824128355}, {\"annais\": \"1979\", \"categorie_nom_sexe\": \"femme_unisexe\", \"value\": 50.179533213644525}, {\"annais\": \"1980\", \"categorie_nom_sexe\": \"femme_unisexe\", \"value\": 50.99667774086379}, {\"annais\": \"1981\", \"categorie_nom_sexe\": \"femme_unisexe\", \"value\": 50.725041829336305}, {\"annais\": \"1982\", \"categorie_nom_sexe\": \"femme_unisexe\", \"value\": 50.645994832041346}, {\"annais\": \"1983\", \"categorie_nom_sexe\": \"femme_unisexe\", \"value\": 51.26979384523454}, {\"annais\": \"1984\", \"categorie_nom_sexe\": \"femme_unisexe\", \"value\": 52.166276346604214}, {\"annais\": \"1985\", \"categorie_nom_sexe\": \"femme_unisexe\", \"value\": 50.2515537141166}, {\"annais\": \"1986\", \"categorie_nom_sexe\": \"femme_unisexe\", \"value\": 48.47708511243951}, {\"annais\": \"1987\", \"categorie_nom_sexe\": \"femme_unisexe\", \"value\": 49.39688143571639}, {\"annais\": \"1988\", \"categorie_nom_sexe\": \"femme_unisexe\", \"value\": 49.11206368646663}, {\"annais\": \"1989\", \"categorie_nom_sexe\": \"femme_unisexe\", \"value\": 48.65782165998149}, {\"annais\": \"1990\", \"categorie_nom_sexe\": \"femme_unisexe\", \"value\": 47.15602160788052}, {\"annais\": \"1991\", \"categorie_nom_sexe\": \"femme_unisexe\", \"value\": 45.4983922829582}, {\"annais\": \"1992\", \"categorie_nom_sexe\": \"femme_unisexe\", \"value\": 48.52748691099477}, {\"annais\": \"1993\", \"categorie_nom_sexe\": \"femme_unisexe\", \"value\": 49.56678700361011}, {\"annais\": \"1994\", \"categorie_nom_sexe\": \"femme_unisexe\", \"value\": 48.449470995986864}, {\"annais\": \"1995\", \"categorie_nom_sexe\": \"femme_unisexe\", \"value\": 49.11598302687412}, {\"annais\": \"1996\", \"categorie_nom_sexe\": \"femme_unisexe\", \"value\": 49.324804548685144}, {\"annais\": \"1997\", \"categorie_nom_sexe\": \"femme_unisexe\", \"value\": 49.538915529324974}, {\"annais\": \"1998\", \"categorie_nom_sexe\": \"femme_unisexe\", \"value\": 50.67297198981448}, {\"annais\": \"1999\", \"categorie_nom_sexe\": \"femme_unisexe\", \"value\": 51.76005747126437}, {\"annais\": \"2000\", \"categorie_nom_sexe\": \"femme_unisexe\", \"value\": 50.24717514124294}, {\"annais\": \"2001\", \"categorie_nom_sexe\": \"femme_unisexe\", \"value\": 51.18912797281993}, {\"annais\": \"2002\", \"categorie_nom_sexe\": \"femme_unisexe\", \"value\": 49.94241842610365}, {\"annais\": \"2003\", \"categorie_nom_sexe\": \"femme_unisexe\", \"value\": 52.02757502027575}, {\"annais\": \"2004\", \"categorie_nom_sexe\": \"femme_unisexe\", \"value\": 49.8728813559322}, {\"annais\": \"2005\", \"categorie_nom_sexe\": \"femme_unisexe\", \"value\": 50.08467400508044}, {\"annais\": \"2006\", \"categorie_nom_sexe\": \"femme_unisexe\", \"value\": 50.239651416122}, {\"annais\": \"2007\", \"categorie_nom_sexe\": \"femme_unisexe\", \"value\": 48.1979817395483}, {\"annais\": \"2008\", \"categorie_nom_sexe\": \"femme_unisexe\", \"value\": 51.326259946949605}, {\"annais\": \"2009\", \"categorie_nom_sexe\": \"femme_unisexe\", \"value\": 49.76348155156102}, {\"annais\": \"2010\", \"categorie_nom_sexe\": \"femme_unisexe\", \"value\": 48.96684286400769}, {\"annais\": \"2011\", \"categorie_nom_sexe\": \"femme_unisexe\", \"value\": 49.952335557673976}, {\"annais\": \"2012\", \"categorie_nom_sexe\": \"femme_unisexe\", \"value\": 45.63253012048193}, {\"annais\": \"2013\", \"categorie_nom_sexe\": \"femme_unisexe\", \"value\": 49.0073145245559}, {\"annais\": \"2014\", \"categorie_nom_sexe\": \"femme_unisexe\", \"value\": 47.667020148462356}, {\"annais\": \"2015\", \"categorie_nom_sexe\": \"femme_unisexe\", \"value\": 48.86609071274298}, {\"annais\": \"2016\", \"categorie_nom_sexe\": \"femme_unisexe\", \"value\": 49.014925373134325}, {\"annais\": \"2017\", \"categorie_nom_sexe\": \"femme_unisexe\", \"value\": 48.86013555144794}, {\"annais\": \"2018\", \"categorie_nom_sexe\": \"femme_unisexe\", \"value\": 51.20994113799869}, {\"annais\": \"2019\", \"categorie_nom_sexe\": \"femme_unisexe\", \"value\": 51.49963423555231}, {\"annais\": \"2020\", \"categorie_nom_sexe\": \"femme_unisexe\", \"value\": 49.65986394557823}, {\"annais\": \"1919\", \"categorie_nom_sexe\": \"femme_unisexe\", \"value\": 74.0464344941957}, {\"annais\": \"1900\", \"categorie_nom_sexe\": \"femme_seulmt\", \"value\": 21.401580212985227}, {\"annais\": \"1901\", \"categorie_nom_sexe\": \"femme_seulmt\", \"value\": 19.955442393380014}, {\"annais\": \"1902\", \"categorie_nom_sexe\": \"femme_seulmt\", \"value\": 20.17868145409735}, {\"annais\": \"1903\", \"categorie_nom_sexe\": \"femme_seulmt\", \"value\": 21.98181248040138}, {\"annais\": \"1904\", \"categorie_nom_sexe\": \"femme_seulmt\", \"value\": 22.01670644391408}, {\"annais\": \"1905\", \"categorie_nom_sexe\": \"femme_seulmt\", \"value\": 22.724458204334365}, {\"annais\": \"1906\", \"categorie_nom_sexe\": \"femme_seulmt\", \"value\": 21.397632110886516}, {\"annais\": \"1907\", \"categorie_nom_sexe\": \"femme_seulmt\", \"value\": 23.758660508083143}, {\"annais\": \"1908\", \"categorie_nom_sexe\": \"femme_seulmt\", \"value\": 25.484764542936286}, {\"annais\": \"1909\", \"categorie_nom_sexe\": \"femme_seulmt\", \"value\": 22.73788674839463}, {\"annais\": \"1910\", \"categorie_nom_sexe\": \"femme_seulmt\", \"value\": 24.120171673819744}, {\"annais\": \"1911\", \"categorie_nom_sexe\": \"femme_seulmt\", \"value\": 25.544794188861985}, {\"annais\": \"1912\", \"categorie_nom_sexe\": \"femme_seulmt\", \"value\": 25.969213226909922}, {\"annais\": \"1913\", \"categorie_nom_sexe\": \"femme_seulmt\", \"value\": 25.150042869391253}, {\"annais\": \"1914\", \"categorie_nom_sexe\": \"femme_seulmt\", \"value\": 27.1597067261715}, {\"annais\": \"1915\", \"categorie_nom_sexe\": \"femme_seulmt\", \"value\": 28.665568369028005}, {\"annais\": \"1916\", \"categorie_nom_sexe\": \"femme_seulmt\", \"value\": 27.49827705031013}, {\"annais\": \"1917\", \"categorie_nom_sexe\": \"femme_seulmt\", \"value\": 25.981873111782477}, {\"annais\": \"1918\", \"categorie_nom_sexe\": \"femme_seulmt\", \"value\": 25.487646293888165}, {\"annais\": \"1920\", \"categorie_nom_sexe\": \"femme_seulmt\", \"value\": 30.612244897959183}, {\"annais\": \"1921\", \"categorie_nom_sexe\": \"femme_seulmt\", \"value\": 33.409205867475976}, {\"annais\": \"1922\", \"categorie_nom_sexe\": \"femme_seulmt\", \"value\": 34.88153882242552}, {\"annais\": \"1923\", \"categorie_nom_sexe\": \"femme_seulmt\", \"value\": 37.097118463180365}, {\"annais\": \"1924\", \"categorie_nom_sexe\": \"femme_seulmt\", \"value\": 39.51322751322751}, {\"annais\": \"1925\", \"categorie_nom_sexe\": \"femme_seulmt\", \"value\": 41.70555791260077}, {\"annais\": \"1926\", \"categorie_nom_sexe\": \"femme_seulmt\", \"value\": 44.61216906641895}, {\"annais\": \"1927\", \"categorie_nom_sexe\": \"femme_seulmt\", \"value\": 46.673142302088394}, {\"annais\": \"1928\", \"categorie_nom_sexe\": \"femme_seulmt\", \"value\": 46.623717489859224}, {\"annais\": \"1929\", \"categorie_nom_sexe\": \"femme_seulmt\", \"value\": 49.91469656349013}, {\"annais\": \"1930\", \"categorie_nom_sexe\": \"femme_seulmt\", \"value\": 49.22059518186112}, {\"annais\": \"1931\", \"categorie_nom_sexe\": \"femme_seulmt\", \"value\": 50.99682827367467}, {\"annais\": \"1932\", \"categorie_nom_sexe\": \"femme_seulmt\", \"value\": 50.55187637969095}, {\"annais\": \"1933\", \"categorie_nom_sexe\": \"femme_seulmt\", \"value\": 49.93535040082752}, {\"annais\": \"1934\", \"categorie_nom_sexe\": \"femme_seulmt\", \"value\": 51.477242480702685}, {\"annais\": \"1935\", \"categorie_nom_sexe\": \"femme_seulmt\", \"value\": 50.70798824472348}, {\"annais\": \"1936\", \"categorie_nom_sexe\": \"femme_seulmt\", \"value\": 50.65266742338252}, {\"annais\": \"1937\", \"categorie_nom_sexe\": \"femme_seulmt\", \"value\": 50.1727115716753}, {\"annais\": \"1938\", \"categorie_nom_sexe\": \"femme_seulmt\", \"value\": 52.63001485884101}, {\"annais\": \"1939\", \"categorie_nom_sexe\": \"femme_seulmt\", \"value\": 51.67024210848912}, {\"annais\": \"1940\", \"categorie_nom_sexe\": \"femme_seulmt\", \"value\": 52.00166805671393}, {\"annais\": \"1941\", \"categorie_nom_sexe\": \"femme_seulmt\", \"value\": 50.88305489260143}, {\"annais\": \"1942\", \"categorie_nom_sexe\": \"femme_seulmt\", \"value\": 50.68840579710145}, {\"annais\": \"1943\", \"categorie_nom_sexe\": \"femme_seulmt\", \"value\": 52.08805438653286}, {\"annais\": \"1944\", \"categorie_nom_sexe\": \"femme_seulmt\", \"value\": 50.50029429075927}, {\"annais\": \"1945\", \"categorie_nom_sexe\": \"femme_seulmt\", \"value\": 52.28739825989335}, {\"annais\": \"1946\", \"categorie_nom_sexe\": \"femme_seulmt\", \"value\": 51.03373231773667}, {\"annais\": \"1947\", \"categorie_nom_sexe\": \"femme_seulmt\", \"value\": 51.13472622478386}, {\"annais\": \"1948\", \"categorie_nom_sexe\": \"femme_seulmt\", \"value\": 50.60840707964602}, {\"annais\": \"1949\", \"categorie_nom_sexe\": \"femme_seulmt\", \"value\": 49.286595032587634}, {\"annais\": \"1950\", \"categorie_nom_sexe\": \"femme_seulmt\", \"value\": 48.24372759856631}, {\"annais\": \"1951\", \"categorie_nom_sexe\": \"femme_seulmt\", \"value\": 47.538167938931295}, {\"annais\": \"1952\", \"categorie_nom_sexe\": \"femme_seulmt\", \"value\": 48.058902275769746}, {\"annais\": \"1953\", \"categorie_nom_sexe\": \"femme_seulmt\", \"value\": 47.580325267750894}, {\"annais\": \"1954\", \"categorie_nom_sexe\": \"femme_seulmt\", \"value\": 47.06701133426129}, {\"annais\": \"1955\", \"categorie_nom_sexe\": \"femme_seulmt\", \"value\": 46.523855890944496}, {\"annais\": \"1956\", \"categorie_nom_sexe\": \"femme_seulmt\", \"value\": 45.04960518323547}, {\"annais\": \"1957\", \"categorie_nom_sexe\": \"femme_seulmt\", \"value\": 43.96934247680516}, {\"annais\": \"1958\", \"categorie_nom_sexe\": \"femme_seulmt\", \"value\": 43.08488612836439}, {\"annais\": \"1959\", \"categorie_nom_sexe\": \"femme_seulmt\", \"value\": 43.302564102564105}, {\"annais\": \"1960\", \"categorie_nom_sexe\": \"femme_seulmt\", \"value\": 39.85138004246284}, {\"annais\": \"1961\", \"categorie_nom_sexe\": \"femme_seulmt\", \"value\": 38.99669694467382}, {\"annais\": \"1962\", \"categorie_nom_sexe\": \"femme_seulmt\", \"value\": 38.10341128513195}, {\"annais\": \"1963\", \"categorie_nom_sexe\": \"femme_seulmt\", \"value\": 36.279165806318396}, {\"annais\": \"1964\", \"categorie_nom_sexe\": \"femme_seulmt\", \"value\": 34.43435177539224}, {\"annais\": \"1965\", \"categorie_nom_sexe\": \"femme_seulmt\", \"value\": 32.82617757398916}, {\"annais\": \"1966\", \"categorie_nom_sexe\": \"femme_seulmt\", \"value\": 33.023049645390074}, {\"annais\": \"1967\", \"categorie_nom_sexe\": \"femme_seulmt\", \"value\": 33.4716459197787}, {\"annais\": \"1968\", \"categorie_nom_sexe\": \"femme_seulmt\", \"value\": 36.85300207039337}, {\"annais\": \"1969\", \"categorie_nom_sexe\": \"femme_seulmt\", \"value\": 36.94547134935305}, {\"annais\": \"1970\", \"categorie_nom_sexe\": \"femme_seulmt\", \"value\": 40.13157894736842}, {\"annais\": \"1971\", \"categorie_nom_sexe\": \"femme_seulmt\", \"value\": 41.73209612181775}, {\"annais\": \"1972\", \"categorie_nom_sexe\": \"femme_seulmt\", \"value\": 45.003494060097836}, {\"annais\": \"1973\", \"categorie_nom_sexe\": \"femme_seulmt\", \"value\": 45.73036457058967}, {\"annais\": \"1974\", \"categorie_nom_sexe\": \"femme_seulmt\", \"value\": 47.84862623120788}, {\"annais\": \"1975\", \"categorie_nom_sexe\": \"femme_seulmt\", \"value\": 48.81018262313226}, {\"annais\": \"1976\", \"categorie_nom_sexe\": \"femme_seulmt\", \"value\": 48.888888888888886}, {\"annais\": \"1977\", \"categorie_nom_sexe\": \"femme_seulmt\", \"value\": 50.38145539906103}, {\"annais\": \"1978\", \"categorie_nom_sexe\": \"femme_seulmt\", \"value\": 50.694230175871645}, {\"annais\": \"1979\", \"categorie_nom_sexe\": \"femme_seulmt\", \"value\": 49.820466786355475}, {\"annais\": \"1980\", \"categorie_nom_sexe\": \"femme_seulmt\", \"value\": 49.00332225913621}, {\"annais\": \"1981\", \"categorie_nom_sexe\": \"femme_seulmt\", \"value\": 49.274958170663695}, {\"annais\": \"1982\", \"categorie_nom_sexe\": \"femme_seulmt\", \"value\": 49.354005167958654}, {\"annais\": \"1983\", \"categorie_nom_sexe\": \"femme_seulmt\", \"value\": 48.73020615476546}, {\"annais\": \"1984\", \"categorie_nom_sexe\": \"femme_seulmt\", \"value\": 47.833723653395786}, {\"annais\": \"1985\", \"categorie_nom_sexe\": \"femme_seulmt\", \"value\": 49.7484462858834}, {\"annais\": \"1986\", \"categorie_nom_sexe\": \"femme_seulmt\", \"value\": 51.52291488756049}, {\"annais\": \"1987\", \"categorie_nom_sexe\": \"femme_seulmt\", \"value\": 50.60311856428361}, {\"annais\": \"1988\", \"categorie_nom_sexe\": \"femme_seulmt\", \"value\": 50.88793631353337}, {\"annais\": \"1989\", \"categorie_nom_sexe\": \"femme_seulmt\", \"value\": 51.34217834001851}, {\"annais\": \"1990\", \"categorie_nom_sexe\": \"femme_seulmt\", \"value\": 52.84397839211948}, {\"annais\": \"1991\", \"categorie_nom_sexe\": \"femme_seulmt\", \"value\": 54.5016077170418}, {\"annais\": \"1992\", \"categorie_nom_sexe\": \"femme_seulmt\", \"value\": 51.47251308900523}, {\"annais\": \"1993\", \"categorie_nom_sexe\": \"femme_seulmt\", \"value\": 50.43321299638989}, {\"annais\": \"1994\", \"categorie_nom_sexe\": \"femme_seulmt\", \"value\": 51.550529004013136}, {\"annais\": \"1995\", \"categorie_nom_sexe\": \"femme_seulmt\", \"value\": 50.88401697312588}, {\"annais\": \"1996\", \"categorie_nom_sexe\": \"femme_seulmt\", \"value\": 50.675195451314856}, {\"annais\": \"1997\", \"categorie_nom_sexe\": \"femme_seulmt\", \"value\": 50.461084470675026}, {\"annais\": \"1998\", \"categorie_nom_sexe\": \"femme_seulmt\", \"value\": 49.32702801018552}, {\"annais\": \"1999\", \"categorie_nom_sexe\": \"femme_seulmt\", \"value\": 48.23994252873563}, {\"annais\": \"2000\", \"categorie_nom_sexe\": \"femme_seulmt\", \"value\": 49.75282485875706}, {\"annais\": \"2001\", \"categorie_nom_sexe\": \"femme_seulmt\", \"value\": 48.81087202718007}, {\"annais\": \"2002\", \"categorie_nom_sexe\": \"femme_seulmt\", \"value\": 50.05758157389635}, {\"annais\": \"2003\", \"categorie_nom_sexe\": \"femme_seulmt\", \"value\": 47.97242497972425}, {\"annais\": \"2004\", \"categorie_nom_sexe\": \"femme_seulmt\", \"value\": 50.1271186440678}, {\"annais\": \"2005\", \"categorie_nom_sexe\": \"femme_seulmt\", \"value\": 49.91532599491956}, {\"annais\": \"2006\", \"categorie_nom_sexe\": \"femme_seulmt\", \"value\": 49.760348583878}, {\"annais\": \"2007\", \"categorie_nom_sexe\": \"femme_seulmt\", \"value\": 51.8020182604517}, {\"annais\": \"2008\", \"categorie_nom_sexe\": \"femme_seulmt\", \"value\": 48.673740053050395}, {\"annais\": \"2009\", \"categorie_nom_sexe\": \"femme_seulmt\", \"value\": 50.23651844843898}, {\"annais\": \"2010\", \"categorie_nom_sexe\": \"femme_seulmt\", \"value\": 51.03315713599231}, {\"annais\": \"2011\", \"categorie_nom_sexe\": \"femme_seulmt\", \"value\": 50.047664442326024}, {\"annais\": \"2012\", \"categorie_nom_sexe\": \"femme_seulmt\", \"value\": 54.36746987951807}, {\"annais\": \"2013\", \"categorie_nom_sexe\": \"femme_seulmt\", \"value\": 50.9926854754441}, {\"annais\": \"2014\", \"categorie_nom_sexe\": \"femme_seulmt\", \"value\": 52.332979851537644}, {\"annais\": \"2015\", \"categorie_nom_sexe\": \"femme_seulmt\", \"value\": 51.13390928725702}, {\"annais\": \"2016\", \"categorie_nom_sexe\": \"femme_seulmt\", \"value\": 50.985074626865675}, {\"annais\": \"2017\", \"categorie_nom_sexe\": \"femme_seulmt\", \"value\": 51.13986444855206}, {\"annais\": \"2018\", \"categorie_nom_sexe\": \"femme_seulmt\", \"value\": 48.79005886200131}, {\"annais\": \"2019\", \"categorie_nom_sexe\": \"femme_seulmt\", \"value\": 48.50036576444769}, {\"annais\": \"2020\", \"categorie_nom_sexe\": \"femme_seulmt\", \"value\": 50.34013605442177}, {\"annais\": \"1919\", \"categorie_nom_sexe\": \"femme_seulmt\", \"value\": 25.953565505804313}]}}, {\"mode\": \"vega-lite\"});\n",
       "</script>"
      ],
      "text/plain": [
       "alt.Chart(...)"
      ]
     },
     "metadata": {},
     "output_type": "display_data"
    }
   ],
   "source": [
    "chart.display()"
   ]
  },
  {
   "attachments": {},
   "cell_type": "markdown",
   "metadata": {},
   "source": [
    "In order to fit in a square, the bars width has to be diminished, and we can only keep a tick like every 20 years for instance. We might restrict ourselves to a more narrow interval for the years."
   ]
  },
  {
   "cell_type": "code",
   "execution_count": 11,
   "metadata": {},
   "outputs": [
    {
     "data": {
      "text/plain": [
       "['1900', '1920', '1940', '1960', '1980', '2000', '2020']"
      ]
     },
     "execution_count": 11,
     "metadata": {},
     "output_type": "execute_result"
    }
   ],
   "source": [
    "# Determine the years to use as ticks\n",
    "# Determine the years to use as ticks\n",
    "years = list(range(1900, 2021, 20))\n",
    "\n",
    "# Convert the years to string\n",
    "years = [str(year) for year in years]\n",
    "years"
   ]
  },
  {
   "cell_type": "code",
   "execution_count": 23,
   "metadata": {},
   "outputs": [],
   "source": [
    "chart = alt.Chart(df_bar).mark_bar().encode(\n",
    "    x=alt.X('annais:O', title=None, axis=alt.Axis(values=years)), # year\n",
    "    y=alt.Y('sum(value):Q', title=None), # values\n",
    "    color=alt.Color('categorie_nom_sexe:N', legend=None)\n",
    ").properties(\n",
    "    width=300,\n",
    "    height=300\n",
    ")"
   ]
  },
  {
   "cell_type": "code",
   "execution_count": 24,
   "metadata": {},
   "outputs": [
    {
     "data": {
      "text/html": [
       "\n",
       "<style>\n",
       "  #altair-viz-5c54fec1047540d7816cf816cf18f011.vega-embed {\n",
       "    width: 100%;\n",
       "    display: flex;\n",
       "  }\n",
       "\n",
       "  #altair-viz-5c54fec1047540d7816cf816cf18f011.vega-embed details,\n",
       "  #altair-viz-5c54fec1047540d7816cf816cf18f011.vega-embed details summary {\n",
       "    position: relative;\n",
       "  }\n",
       "</style>\n",
       "<div id=\"altair-viz-5c54fec1047540d7816cf816cf18f011\"></div>\n",
       "<script type=\"text/javascript\">\n",
       "  var VEGA_DEBUG = (typeof VEGA_DEBUG == \"undefined\") ? {} : VEGA_DEBUG;\n",
       "  (function(spec, embedOpt){\n",
       "    let outputDiv = document.currentScript.previousElementSibling;\n",
       "    if (outputDiv.id !== \"altair-viz-5c54fec1047540d7816cf816cf18f011\") {\n",
       "      outputDiv = document.getElementById(\"altair-viz-5c54fec1047540d7816cf816cf18f011\");\n",
       "    }\n",
       "    const paths = {\n",
       "      \"vega\": \"https://cdn.jsdelivr.net/npm/vega@5?noext\",\n",
       "      \"vega-lib\": \"https://cdn.jsdelivr.net/npm/vega-lib?noext\",\n",
       "      \"vega-lite\": \"https://cdn.jsdelivr.net/npm/vega-lite@5.8.0?noext\",\n",
       "      \"vega-embed\": \"https://cdn.jsdelivr.net/npm/vega-embed@6?noext\",\n",
       "    };\n",
       "\n",
       "    function maybeLoadScript(lib, version) {\n",
       "      var key = `${lib.replace(\"-\", \"\")}_version`;\n",
       "      return (VEGA_DEBUG[key] == version) ?\n",
       "        Promise.resolve(paths[lib]) :\n",
       "        new Promise(function(resolve, reject) {\n",
       "          var s = document.createElement('script');\n",
       "          document.getElementsByTagName(\"head\")[0].appendChild(s);\n",
       "          s.async = true;\n",
       "          s.onload = () => {\n",
       "            VEGA_DEBUG[key] = version;\n",
       "            return resolve(paths[lib]);\n",
       "          };\n",
       "          s.onerror = () => reject(`Error loading script: ${paths[lib]}`);\n",
       "          s.src = paths[lib];\n",
       "        });\n",
       "    }\n",
       "\n",
       "    function showError(err) {\n",
       "      outputDiv.innerHTML = `<div class=\"error\" style=\"color:red;\">${err}</div>`;\n",
       "      throw err;\n",
       "    }\n",
       "\n",
       "    function displayChart(vegaEmbed) {\n",
       "      vegaEmbed(outputDiv, spec, embedOpt)\n",
       "        .catch(err => showError(`Javascript Error: ${err.message}<br>This usually means there's a typo in your chart specification. See the javascript console for the full traceback.`));\n",
       "    }\n",
       "\n",
       "    if(typeof define === \"function\" && define.amd) {\n",
       "      requirejs.config({paths});\n",
       "      require([\"vega-embed\"], displayChart, err => showError(`Error loading script: ${err.message}`));\n",
       "    } else {\n",
       "      maybeLoadScript(\"vega\", \"5\")\n",
       "        .then(() => maybeLoadScript(\"vega-lite\", \"5.8.0\"))\n",
       "        .then(() => maybeLoadScript(\"vega-embed\", \"6\"))\n",
       "        .catch(showError)\n",
       "        .then(() => displayChart(vegaEmbed));\n",
       "    }\n",
       "  })({\"config\": {\"view\": {\"continuousWidth\": 300, \"continuousHeight\": 300}}, \"data\": {\"name\": \"data-67772c314daded68e90792c73fcfe55f\"}, \"mark\": {\"type\": \"bar\"}, \"encoding\": {\"color\": {\"field\": \"categorie_nom_sexe\", \"legend\": null, \"type\": \"nominal\"}, \"x\": {\"axis\": {\"values\": [\"1900\", \"1920\", \"1940\", \"1960\", \"1980\", \"2000\", \"2020\"]}, \"field\": \"annais\", \"title\": null, \"type\": \"ordinal\"}, \"y\": {\"aggregate\": \"sum\", \"field\": \"value\", \"title\": null, \"type\": \"quantitative\"}}, \"height\": 300, \"width\": 300, \"$schema\": \"https://vega.github.io/schema/vega-lite/v5.8.0.json\", \"datasets\": {\"data-67772c314daded68e90792c73fcfe55f\": [{\"annais\": \"1900\", \"categorie_nom_sexe\": \"homme_unisexe\", \"value\": -97.9639055992596}, {\"annais\": \"1901\", \"categorie_nom_sexe\": \"homme_unisexe\", \"value\": -98.19327731092437}, {\"annais\": \"1902\", \"categorie_nom_sexe\": \"homme_unisexe\", \"value\": -97.66899766899768}, {\"annais\": \"1903\", \"categorie_nom_sexe\": \"homme_unisexe\", \"value\": -97.08431836091411}, {\"annais\": \"1904\", \"categorie_nom_sexe\": \"homme_unisexe\", \"value\": -98.27387802071347}, {\"annais\": \"1905\", \"categorie_nom_sexe\": \"homme_unisexe\", \"value\": -97.73318468970643}, {\"annais\": \"1906\", \"categorie_nom_sexe\": \"homme_unisexe\", \"value\": -97.42388758782201}, {\"annais\": \"1907\", \"categorie_nom_sexe\": \"homme_unisexe\", \"value\": -97.35304228257134}, {\"annais\": \"1908\", \"categorie_nom_sexe\": \"homme_unisexe\", \"value\": -98.36387434554973}, {\"annais\": \"1909\", \"categorie_nom_sexe\": \"homme_unisexe\", \"value\": -97.57071547420965}, {\"annais\": \"1910\", \"categorie_nom_sexe\": \"homme_unisexe\", \"value\": -97.73432650527623}, {\"annais\": \"1911\", \"categorie_nom_sexe\": \"homme_unisexe\", \"value\": -97.51958224543081}, {\"annais\": \"1912\", \"categorie_nom_sexe\": \"homme_unisexe\", \"value\": -97.4086793630971}, {\"annais\": \"1913\", \"categorie_nom_sexe\": \"homme_unisexe\", \"value\": -97.53499695678637}, {\"annais\": \"1914\", \"categorie_nom_sexe\": \"homme_unisexe\", \"value\": -98.1787521079258}, {\"annais\": \"1915\", \"categorie_nom_sexe\": \"homme_unisexe\", \"value\": -98.39189994044074}, {\"annais\": \"1916\", \"categorie_nom_sexe\": \"homme_unisexe\", \"value\": -98.39203675344564}, {\"annais\": \"1917\", \"categorie_nom_sexe\": \"homme_unisexe\", \"value\": -99.03006789524733}, {\"annais\": \"1918\", \"categorie_nom_sexe\": \"homme_unisexe\", \"value\": -98.89502762430939}, {\"annais\": \"1920\", \"categorie_nom_sexe\": \"homme_unisexe\", \"value\": -98.92014776925262}, {\"annais\": \"1921\", \"categorie_nom_sexe\": \"homme_unisexe\", \"value\": -98.4571129707113}, {\"annais\": \"1922\", \"categorie_nom_sexe\": \"homme_unisexe\", \"value\": -98.25317061497967}, {\"annais\": \"1923\", \"categorie_nom_sexe\": \"homme_unisexe\", \"value\": -98.67861142217245}, {\"annais\": \"1924\", \"categorie_nom_sexe\": \"homme_unisexe\", \"value\": -98.64061172472387}, {\"annais\": \"1925\", \"categorie_nom_sexe\": \"homme_unisexe\", \"value\": -98.05931094635848}, {\"annais\": \"1926\", \"categorie_nom_sexe\": \"homme_unisexe\", \"value\": -98.20075757575758}, {\"annais\": \"1927\", \"categorie_nom_sexe\": \"homme_unisexe\", \"value\": -97.83653846153847}, {\"annais\": \"1928\", \"categorie_nom_sexe\": \"homme_unisexe\", \"value\": -98.19189971070395}, {\"annais\": \"1929\", \"categorie_nom_sexe\": \"homme_unisexe\", \"value\": -98.486328125}, {\"annais\": \"1930\", \"categorie_nom_sexe\": \"homme_unisexe\", \"value\": -98.08679421371909}, {\"annais\": \"1931\", \"categorie_nom_sexe\": \"homme_unisexe\", \"value\": -97.67554479418887}, {\"annais\": \"1932\", \"categorie_nom_sexe\": \"homme_unisexe\", \"value\": -97.98228346456693}, {\"annais\": \"1933\", \"categorie_nom_sexe\": \"homme_unisexe\", \"value\": -97.58842443729904}, {\"annais\": \"1934\", \"categorie_nom_sexe\": \"homme_unisexe\", \"value\": -97.35116706005769}, {\"annais\": \"1935\", \"categorie_nom_sexe\": \"homme_unisexe\", \"value\": -96.89370190937589}, {\"annais\": \"1936\", \"categorie_nom_sexe\": \"homme_unisexe\", \"value\": -97.9861910241657}, {\"annais\": \"1937\", \"categorie_nom_sexe\": \"homme_unisexe\", \"value\": -97.63667425968109}, {\"annais\": \"1938\", \"categorie_nom_sexe\": \"homme_unisexe\", \"value\": -96.97493517718237}, {\"annais\": \"1939\", \"categorie_nom_sexe\": \"homme_unisexe\", \"value\": -96.44655019247853}, {\"annais\": \"1940\", \"categorie_nom_sexe\": \"homme_unisexe\", \"value\": -95.1007326007326}, {\"annais\": \"1941\", \"categorie_nom_sexe\": \"homme_unisexe\", \"value\": -93.0341280972417}, {\"annais\": \"1942\", \"categorie_nom_sexe\": \"homme_unisexe\", \"value\": -92.36311239193084}, {\"annais\": \"1943\", \"categorie_nom_sexe\": \"homme_unisexe\", \"value\": -89.69235648588646}, {\"annais\": \"1944\", \"categorie_nom_sexe\": \"homme_unisexe\", \"value\": -87.79369627507164}, {\"annais\": \"1945\", \"categorie_nom_sexe\": \"homme_unisexe\", \"value\": -87.02611625947767}, {\"annais\": \"1946\", \"categorie_nom_sexe\": \"homme_unisexe\", \"value\": -90.5533528701948}, {\"annais\": \"1947\", \"categorie_nom_sexe\": \"homme_unisexe\", \"value\": -89.26140231449966}, {\"annais\": \"1948\", \"categorie_nom_sexe\": \"homme_unisexe\", \"value\": -87.17077315208157}, {\"annais\": \"1949\", \"categorie_nom_sexe\": \"homme_unisexe\", \"value\": -89.46407831425253}, {\"annais\": \"1950\", \"categorie_nom_sexe\": \"homme_unisexe\", \"value\": -83.27924850555081}, {\"annais\": \"1951\", \"categorie_nom_sexe\": \"homme_unisexe\", \"value\": -89.2013110229429}, {\"annais\": \"1952\", \"categorie_nom_sexe\": \"homme_unisexe\", \"value\": -85.32627865961199}, {\"annais\": \"1953\", \"categorie_nom_sexe\": \"homme_unisexe\", \"value\": -87.12871287128714}, {\"annais\": \"1954\", \"categorie_nom_sexe\": \"homme_unisexe\", \"value\": -88.57142857142857}, {\"annais\": \"1955\", \"categorie_nom_sexe\": \"homme_unisexe\", \"value\": -86.2490733876946}, {\"annais\": \"1956\", \"categorie_nom_sexe\": \"homme_unisexe\", \"value\": -82.71251193887296}, {\"annais\": \"1957\", \"categorie_nom_sexe\": \"homme_unisexe\", \"value\": -82.80121626757887}, {\"annais\": \"1958\", \"categorie_nom_sexe\": \"homme_unisexe\", \"value\": -81.71685569026202}, {\"annais\": \"1959\", \"categorie_nom_sexe\": \"homme_unisexe\", \"value\": -81.95084485407067}, {\"annais\": \"1960\", \"categorie_nom_sexe\": \"homme_unisexe\", \"value\": -79.86563920173879}, {\"annais\": \"1961\", \"categorie_nom_sexe\": \"homme_unisexe\", \"value\": -79.9622641509434}, {\"annais\": \"1962\", \"categorie_nom_sexe\": \"homme_unisexe\", \"value\": -80.15952143569292}, {\"annais\": \"1963\", \"categorie_nom_sexe\": \"homme_unisexe\", \"value\": -80.77145612343298}, {\"annais\": \"1964\", \"categorie_nom_sexe\": \"homme_unisexe\", \"value\": -79.53929539295393}, {\"annais\": \"1965\", \"categorie_nom_sexe\": \"homme_unisexe\", \"value\": -78.29306313328136}, {\"annais\": \"1966\", \"categorie_nom_sexe\": \"homme_unisexe\", \"value\": -79.47666471392306}, {\"annais\": \"1967\", \"categorie_nom_sexe\": \"homme_unisexe\", \"value\": -81.68358714043993}, {\"annais\": \"1968\", \"categorie_nom_sexe\": \"homme_unisexe\", \"value\": -79.45115257958288}, {\"annais\": \"1969\", \"categorie_nom_sexe\": \"homme_unisexe\", \"value\": -81.77671589921808}, {\"annais\": \"1970\", \"categorie_nom_sexe\": \"homme_unisexe\", \"value\": -81.36232527179942}, {\"annais\": \"1971\", \"categorie_nom_sexe\": \"homme_unisexe\", \"value\": -79.48663101604278}, {\"annais\": \"1972\", \"categorie_nom_sexe\": \"homme_unisexe\", \"value\": -80.68669527896996}, {\"annais\": \"1973\", \"categorie_nom_sexe\": \"homme_unisexe\", \"value\": -79.16945746818486}, {\"annais\": \"1974\", \"categorie_nom_sexe\": \"homme_unisexe\", \"value\": -77.58293838862559}, {\"annais\": \"1975\", \"categorie_nom_sexe\": \"homme_unisexe\", \"value\": -77.67393561786085}, {\"annais\": \"1976\", \"categorie_nom_sexe\": \"homme_unisexe\", \"value\": -75.90163934426229}, {\"annais\": \"1977\", \"categorie_nom_sexe\": \"homme_unisexe\", \"value\": -74.00579404793258}, {\"annais\": \"1978\", \"categorie_nom_sexe\": \"homme_unisexe\", \"value\": -72.86620530565168}, {\"annais\": \"1979\", \"categorie_nom_sexe\": \"homme_unisexe\", \"value\": -71.58577878103837}, {\"annais\": \"1980\", \"categorie_nom_sexe\": \"homme_unisexe\", \"value\": -72.31311351623458}, {\"annais\": \"1981\", \"categorie_nom_sexe\": \"homme_unisexe\", \"value\": -71.73144876325088}, {\"annais\": \"1982\", \"categorie_nom_sexe\": \"homme_unisexe\", \"value\": -69.629057187017}, {\"annais\": \"1983\", \"categorie_nom_sexe\": \"homme_unisexe\", \"value\": -68.7535734705546}, {\"annais\": \"1984\", \"categorie_nom_sexe\": \"homme_unisexe\", \"value\": -67.08298640022204}, {\"annais\": \"1985\", \"categorie_nom_sexe\": \"homme_unisexe\", \"value\": -66.42355483522421}, {\"annais\": \"1986\", \"categorie_nom_sexe\": \"homme_unisexe\", \"value\": -67.4993284985227}, {\"annais\": \"1987\", \"categorie_nom_sexe\": \"homme_unisexe\", \"value\": -68.38638858397366}, {\"annais\": \"1988\", \"categorie_nom_sexe\": \"homme_unisexe\", \"value\": -67.25738396624473}, {\"annais\": \"1989\", \"categorie_nom_sexe\": \"homme_unisexe\", \"value\": -67.87196206283343}, {\"annais\": \"1990\", \"categorie_nom_sexe\": \"homme_unisexe\", \"value\": -68.21637426900585}, {\"annais\": \"1991\", \"categorie_nom_sexe\": \"homme_unisexe\", \"value\": -69.62406015037594}, {\"annais\": \"1992\", \"categorie_nom_sexe\": \"homme_unisexe\", \"value\": -69.57440386356777}, {\"annais\": \"1993\", \"categorie_nom_sexe\": \"homme_unisexe\", \"value\": -71.16384915474643}, {\"annais\": \"1994\", \"categorie_nom_sexe\": \"homme_unisexe\", \"value\": -69.38263867126292}, {\"annais\": \"1995\", \"categorie_nom_sexe\": \"homme_unisexe\", \"value\": -70.61317677756034}, {\"annais\": \"1996\", \"categorie_nom_sexe\": \"homme_unisexe\", \"value\": -69.27973199329983}, {\"annais\": \"1997\", \"categorie_nom_sexe\": \"homme_unisexe\", \"value\": -69.6547144754316}, {\"annais\": \"1998\", \"categorie_nom_sexe\": \"homme_unisexe\", \"value\": -69.63262554769128}, {\"annais\": \"1999\", \"categorie_nom_sexe\": \"homme_unisexe\", \"value\": -67.96977660972405}, {\"annais\": \"2000\", \"categorie_nom_sexe\": \"homme_unisexe\", \"value\": -67.14146973130462}, {\"annais\": \"2001\", \"categorie_nom_sexe\": \"homme_unisexe\", \"value\": -67.54234358797096}, {\"annais\": \"2002\", \"categorie_nom_sexe\": \"homme_unisexe\", \"value\": -67.86461967899511}, {\"annais\": \"2003\", \"categorie_nom_sexe\": \"homme_unisexe\", \"value\": -65.57971014492753}, {\"annais\": \"2004\", \"categorie_nom_sexe\": \"homme_unisexe\", \"value\": -66.49056603773585}, {\"annais\": \"2005\", \"categorie_nom_sexe\": \"homme_unisexe\", \"value\": -63.84558277654046}, {\"annais\": \"2006\", \"categorie_nom_sexe\": \"homme_unisexe\", \"value\": -65.36438767843727}, {\"annais\": \"2007\", \"categorie_nom_sexe\": \"homme_unisexe\", \"value\": -67.47226624405705}, {\"annais\": \"2008\", \"categorie_nom_sexe\": \"homme_unisexe\", \"value\": -66.9047619047619}, {\"annais\": \"2009\", \"categorie_nom_sexe\": \"homme_unisexe\", \"value\": -66.84274685087362}, {\"annais\": \"2010\", \"categorie_nom_sexe\": \"homme_unisexe\", \"value\": -65.91184795794581}, {\"annais\": \"2011\", \"categorie_nom_sexe\": \"homme_unisexe\", \"value\": -68.38905775075987}, {\"annais\": \"2012\", \"categorie_nom_sexe\": \"homme_unisexe\", \"value\": -68.954688200987}, {\"annais\": \"2013\", \"categorie_nom_sexe\": \"homme_unisexe\", \"value\": -69.34763181411975}, {\"annais\": \"2014\", \"categorie_nom_sexe\": \"homme_unisexe\", \"value\": -68.39107736117703}, {\"annais\": \"2015\", \"categorie_nom_sexe\": \"homme_unisexe\", \"value\": -69.66346153846153}, {\"annais\": \"2016\", \"categorie_nom_sexe\": \"homme_unisexe\", \"value\": -74.17582417582418}, {\"annais\": \"2017\", \"categorie_nom_sexe\": \"homme_unisexe\", \"value\": -70.8442579968537}, {\"annais\": \"2018\", \"categorie_nom_sexe\": \"homme_unisexe\", \"value\": -71.7948717948718}, {\"annais\": \"2019\", \"categorie_nom_sexe\": \"homme_unisexe\", \"value\": -70.9735576923077}, {\"annais\": \"2020\", \"categorie_nom_sexe\": \"homme_unisexe\", \"value\": -69.6029776674938}, {\"annais\": \"1919\", \"categorie_nom_sexe\": \"homme_unisexe\", \"value\": -98.38212634822804}, {\"annais\": \"1900\", \"categorie_nom_sexe\": \"homme_seulmt\", \"value\": -2.036094400740398}, {\"annais\": \"1901\", \"categorie_nom_sexe\": \"homme_seulmt\", \"value\": -1.8067226890756303}, {\"annais\": \"1902\", \"categorie_nom_sexe\": \"homme_seulmt\", \"value\": -2.331002331002331}, {\"annais\": \"1903\", \"categorie_nom_sexe\": \"homme_seulmt\", \"value\": -2.9156816390858946}, {\"annais\": \"1904\", \"categorie_nom_sexe\": \"homme_seulmt\", \"value\": -1.7261219792865363}, {\"annais\": \"1905\", \"categorie_nom_sexe\": \"homme_seulmt\", \"value\": -2.266815310293571}, {\"annais\": \"1906\", \"categorie_nom_sexe\": \"homme_seulmt\", \"value\": -2.576112412177986}, {\"annais\": \"1907\", \"categorie_nom_sexe\": \"homme_seulmt\", \"value\": -2.64695771742867}, {\"annais\": \"1908\", \"categorie_nom_sexe\": \"homme_seulmt\", \"value\": -1.6361256544502618}, {\"annais\": \"1909\", \"categorie_nom_sexe\": \"homme_seulmt\", \"value\": -2.4292845257903495}, {\"annais\": \"1910\", \"categorie_nom_sexe\": \"homme_seulmt\", \"value\": -2.265673494723774}, {\"annais\": \"1911\", \"categorie_nom_sexe\": \"homme_seulmt\", \"value\": -2.480417754569191}, {\"annais\": \"1912\", \"categorie_nom_sexe\": \"homme_seulmt\", \"value\": -2.5913206369029034}, {\"annais\": \"1913\", \"categorie_nom_sexe\": \"homme_seulmt\", \"value\": -2.4650030432136334}, {\"annais\": \"1914\", \"categorie_nom_sexe\": \"homme_seulmt\", \"value\": -1.821247892074199}, {\"annais\": \"1915\", \"categorie_nom_sexe\": \"homme_seulmt\", \"value\": -1.6081000595592614}, {\"annais\": \"1916\", \"categorie_nom_sexe\": \"homme_seulmt\", \"value\": -1.6079632465543645}, {\"annais\": \"1917\", \"categorie_nom_sexe\": \"homme_seulmt\", \"value\": -0.9699321047526673}, {\"annais\": \"1918\", \"categorie_nom_sexe\": \"homme_seulmt\", \"value\": -1.1049723756906078}, {\"annais\": \"1920\", \"categorie_nom_sexe\": \"homme_seulmt\", \"value\": -1.0798522307473715}, {\"annais\": \"1921\", \"categorie_nom_sexe\": \"homme_seulmt\", \"value\": -1.542887029288703}, {\"annais\": \"1922\", \"categorie_nom_sexe\": \"homme_seulmt\", \"value\": -1.7468293850203398}, {\"annais\": \"1923\", \"categorie_nom_sexe\": \"homme_seulmt\", \"value\": -1.3213885778275476}, {\"annais\": \"1924\", \"categorie_nom_sexe\": \"homme_seulmt\", \"value\": -1.3593882752761257}, {\"annais\": \"1925\", \"categorie_nom_sexe\": \"homme_seulmt\", \"value\": -1.9406890536415176}, {\"annais\": \"1926\", \"categorie_nom_sexe\": \"homme_seulmt\", \"value\": -1.7992424242424243}, {\"annais\": \"1927\", \"categorie_nom_sexe\": \"homme_seulmt\", \"value\": -2.1634615384615383}, {\"annais\": \"1928\", \"categorie_nom_sexe\": \"homme_seulmt\", \"value\": -1.8081002892960463}, {\"annais\": \"1929\", \"categorie_nom_sexe\": \"homme_seulmt\", \"value\": -1.513671875}, {\"annais\": \"1930\", \"categorie_nom_sexe\": \"homme_seulmt\", \"value\": -1.9132057862809146}, {\"annais\": \"1931\", \"categorie_nom_sexe\": \"homme_seulmt\", \"value\": -2.324455205811138}, {\"annais\": \"1932\", \"categorie_nom_sexe\": \"homme_seulmt\", \"value\": -2.017716535433071}, {\"annais\": \"1933\", \"categorie_nom_sexe\": \"homme_seulmt\", \"value\": -2.4115755627009645}, {\"annais\": \"1934\", \"categorie_nom_sexe\": \"homme_seulmt\", \"value\": -2.6488329399423027}, {\"annais\": \"1935\", \"categorie_nom_sexe\": \"homme_seulmt\", \"value\": -3.1062980906241093}, {\"annais\": \"1936\", \"categorie_nom_sexe\": \"homme_seulmt\", \"value\": -2.013808975834292}, {\"annais\": \"1937\", \"categorie_nom_sexe\": \"homme_seulmt\", \"value\": -2.3633257403189067}, {\"annais\": \"1938\", \"categorie_nom_sexe\": \"homme_seulmt\", \"value\": -3.025064822817632}, {\"annais\": \"1939\", \"categorie_nom_sexe\": \"homme_seulmt\", \"value\": -3.553449807521469}, {\"annais\": \"1940\", \"categorie_nom_sexe\": \"homme_seulmt\", \"value\": -4.8992673992674}, {\"annais\": \"1941\", \"categorie_nom_sexe\": \"homme_seulmt\", \"value\": -6.965871902758298}, {\"annais\": \"1942\", \"categorie_nom_sexe\": \"homme_seulmt\", \"value\": -7.636887608069165}, {\"annais\": \"1943\", \"categorie_nom_sexe\": \"homme_seulmt\", \"value\": -10.307643514113543}, {\"annais\": \"1944\", \"categorie_nom_sexe\": \"homme_seulmt\", \"value\": -12.206303724928366}, {\"annais\": \"1945\", \"categorie_nom_sexe\": \"homme_seulmt\", \"value\": -12.973883740522325}, {\"annais\": \"1946\", \"categorie_nom_sexe\": \"homme_seulmt\", \"value\": -9.446647129805205}, {\"annais\": \"1947\", \"categorie_nom_sexe\": \"homme_seulmt\", \"value\": -10.73859768550034}, {\"annais\": \"1948\", \"categorie_nom_sexe\": \"homme_seulmt\", \"value\": -12.829226847918436}, {\"annais\": \"1949\", \"categorie_nom_sexe\": \"homme_seulmt\", \"value\": -10.53592168574747}, {\"annais\": \"1950\", \"categorie_nom_sexe\": \"homme_seulmt\", \"value\": -16.72075149444919}, {\"annais\": \"1951\", \"categorie_nom_sexe\": \"homme_seulmt\", \"value\": -10.798688977057099}, {\"annais\": \"1952\", \"categorie_nom_sexe\": \"homme_seulmt\", \"value\": -14.673721340388006}, {\"annais\": \"1953\", \"categorie_nom_sexe\": \"homme_seulmt\", \"value\": -12.871287128712872}, {\"annais\": \"1954\", \"categorie_nom_sexe\": \"homme_seulmt\", \"value\": -11.428571428571429}, {\"annais\": \"1955\", \"categorie_nom_sexe\": \"homme_seulmt\", \"value\": -13.750926612305411}, {\"annais\": \"1956\", \"categorie_nom_sexe\": \"homme_seulmt\", \"value\": -17.28748806112703}, {\"annais\": \"1957\", \"categorie_nom_sexe\": \"homme_seulmt\", \"value\": -17.198783732421134}, {\"annais\": \"1958\", \"categorie_nom_sexe\": \"homme_seulmt\", \"value\": -18.283144309737974}, {\"annais\": \"1959\", \"categorie_nom_sexe\": \"homme_seulmt\", \"value\": -18.04915514592934}, {\"annais\": \"1960\", \"categorie_nom_sexe\": \"homme_seulmt\", \"value\": -20.134360798261213}, {\"annais\": \"1961\", \"categorie_nom_sexe\": \"homme_seulmt\", \"value\": -20.037735849056602}, {\"annais\": \"1962\", \"categorie_nom_sexe\": \"homme_seulmt\", \"value\": -19.84047856430708}, {\"annais\": \"1963\", \"categorie_nom_sexe\": \"homme_seulmt\", \"value\": -19.22854387656702}, {\"annais\": \"1964\", \"categorie_nom_sexe\": \"homme_seulmt\", \"value\": -20.460704607046072}, {\"annais\": \"1965\", \"categorie_nom_sexe\": \"homme_seulmt\", \"value\": -21.706936866718628}, {\"annais\": \"1966\", \"categorie_nom_sexe\": \"homme_seulmt\", \"value\": -20.52333528607694}, {\"annais\": \"1967\", \"categorie_nom_sexe\": \"homme_seulmt\", \"value\": -18.316412859560067}, {\"annais\": \"1968\", \"categorie_nom_sexe\": \"homme_seulmt\", \"value\": -20.548847420417125}, {\"annais\": \"1969\", \"categorie_nom_sexe\": \"homme_seulmt\", \"value\": -18.223284100781928}, {\"annais\": \"1970\", \"categorie_nom_sexe\": \"homme_seulmt\", \"value\": -18.637674728200576}, {\"annais\": \"1971\", \"categorie_nom_sexe\": \"homme_seulmt\", \"value\": -20.513368983957218}, {\"annais\": \"1972\", \"categorie_nom_sexe\": \"homme_seulmt\", \"value\": -19.313304721030043}, {\"annais\": \"1973\", \"categorie_nom_sexe\": \"homme_seulmt\", \"value\": -20.830542531815137}, {\"annais\": \"1974\", \"categorie_nom_sexe\": \"homme_seulmt\", \"value\": -22.417061611374407}, {\"annais\": \"1975\", \"categorie_nom_sexe\": \"homme_seulmt\", \"value\": -22.326064382139148}, {\"annais\": \"1976\", \"categorie_nom_sexe\": \"homme_seulmt\", \"value\": -24.098360655737704}, {\"annais\": \"1977\", \"categorie_nom_sexe\": \"homme_seulmt\", \"value\": -25.99420595206742}, {\"annais\": \"1978\", \"categorie_nom_sexe\": \"homme_seulmt\", \"value\": -27.133794694348328}, {\"annais\": \"1979\", \"categorie_nom_sexe\": \"homme_seulmt\", \"value\": -28.414221218961625}, {\"annais\": \"1980\", \"categorie_nom_sexe\": \"homme_seulmt\", \"value\": -27.686886483765417}, {\"annais\": \"1981\", \"categorie_nom_sexe\": \"homme_seulmt\", \"value\": -28.268551236749115}, {\"annais\": \"1982\", \"categorie_nom_sexe\": \"homme_seulmt\", \"value\": -30.370942812983}, {\"annais\": \"1983\", \"categorie_nom_sexe\": \"homme_seulmt\", \"value\": -31.246426529445397}, {\"annais\": \"1984\", \"categorie_nom_sexe\": \"homme_seulmt\", \"value\": -32.91701359977796}, {\"annais\": \"1985\", \"categorie_nom_sexe\": \"homme_seulmt\", \"value\": -33.5764451647758}, {\"annais\": \"1986\", \"categorie_nom_sexe\": \"homme_seulmt\", \"value\": -32.500671501477306}, {\"annais\": \"1987\", \"categorie_nom_sexe\": \"homme_seulmt\", \"value\": -31.613611416026345}, {\"annais\": \"1988\", \"categorie_nom_sexe\": \"homme_seulmt\", \"value\": -32.742616033755276}, {\"annais\": \"1989\", \"categorie_nom_sexe\": \"homme_seulmt\", \"value\": -32.12803793716657}, {\"annais\": \"1990\", \"categorie_nom_sexe\": \"homme_seulmt\", \"value\": -31.783625730994153}, {\"annais\": \"1991\", \"categorie_nom_sexe\": \"homme_seulmt\", \"value\": -30.37593984962406}, {\"annais\": \"1992\", \"categorie_nom_sexe\": \"homme_seulmt\", \"value\": -30.425596136432237}, {\"annais\": \"1993\", \"categorie_nom_sexe\": \"homme_seulmt\", \"value\": -28.836150845253577}, {\"annais\": \"1994\", \"categorie_nom_sexe\": \"homme_seulmt\", \"value\": -30.617361328737072}, {\"annais\": \"1995\", \"categorie_nom_sexe\": \"homme_seulmt\", \"value\": -29.38682322243966}, {\"annais\": \"1996\", \"categorie_nom_sexe\": \"homme_seulmt\", \"value\": -30.720268006700167}, {\"annais\": \"1997\", \"categorie_nom_sexe\": \"homme_seulmt\", \"value\": -30.345285524568393}, {\"annais\": \"1998\", \"categorie_nom_sexe\": \"homme_seulmt\", \"value\": -30.36737445230873}, {\"annais\": \"1999\", \"categorie_nom_sexe\": \"homme_seulmt\", \"value\": -32.03022339027595}, {\"annais\": \"2000\", \"categorie_nom_sexe\": \"homme_seulmt\", \"value\": -32.85853026869537}, {\"annais\": \"2001\", \"categorie_nom_sexe\": \"homme_seulmt\", \"value\": -32.45765641202904}, {\"annais\": \"2002\", \"categorie_nom_sexe\": \"homme_seulmt\", \"value\": -32.13538032100489}, {\"annais\": \"2003\", \"categorie_nom_sexe\": \"homme_seulmt\", \"value\": -34.42028985507246}, {\"annais\": \"2004\", \"categorie_nom_sexe\": \"homme_seulmt\", \"value\": -33.509433962264154}, {\"annais\": \"2005\", \"categorie_nom_sexe\": \"homme_seulmt\", \"value\": -36.15441722345954}, {\"annais\": \"2006\", \"categorie_nom_sexe\": \"homme_seulmt\", \"value\": -34.63561232156273}, {\"annais\": \"2007\", \"categorie_nom_sexe\": \"homme_seulmt\", \"value\": -32.52773375594295}, {\"annais\": \"2008\", \"categorie_nom_sexe\": \"homme_seulmt\", \"value\": -33.095238095238095}, {\"annais\": \"2009\", \"categorie_nom_sexe\": \"homme_seulmt\", \"value\": -33.15725314912637}, {\"annais\": \"2010\", \"categorie_nom_sexe\": \"homme_seulmt\", \"value\": -34.08815204205418}, {\"annais\": \"2011\", \"categorie_nom_sexe\": \"homme_seulmt\", \"value\": -31.61094224924012}, {\"annais\": \"2012\", \"categorie_nom_sexe\": \"homme_seulmt\", \"value\": -31.04531179901301}, {\"annais\": \"2013\", \"categorie_nom_sexe\": \"homme_seulmt\", \"value\": -30.65236818588025}, {\"annais\": \"2014\", \"categorie_nom_sexe\": \"homme_seulmt\", \"value\": -31.60892263882297}, {\"annais\": \"2015\", \"categorie_nom_sexe\": \"homme_seulmt\", \"value\": -30.33653846153846}, {\"annais\": \"2016\", \"categorie_nom_sexe\": \"homme_seulmt\", \"value\": -25.824175824175825}, {\"annais\": \"2017\", \"categorie_nom_sexe\": \"homme_seulmt\", \"value\": -29.155742003146305}, {\"annais\": \"2018\", \"categorie_nom_sexe\": \"homme_seulmt\", \"value\": -28.205128205128204}, {\"annais\": \"2019\", \"categorie_nom_sexe\": \"homme_seulmt\", \"value\": -29.026442307692307}, {\"annais\": \"2020\", \"categorie_nom_sexe\": \"homme_seulmt\", \"value\": -30.397022332506204}, {\"annais\": \"1919\", \"categorie_nom_sexe\": \"homme_seulmt\", \"value\": -1.617873651771957}, {\"annais\": \"1900\", \"categorie_nom_sexe\": \"femme_unisexe\", \"value\": 78.59841978701478}, {\"annais\": \"1901\", \"categorie_nom_sexe\": \"femme_unisexe\", \"value\": 80.04455760661999}, {\"annais\": \"1902\", \"categorie_nom_sexe\": \"femme_unisexe\", \"value\": 79.82131854590266}, {\"annais\": \"1903\", \"categorie_nom_sexe\": \"femme_unisexe\", \"value\": 78.01818751959863}, {\"annais\": \"1904\", \"categorie_nom_sexe\": \"femme_unisexe\", \"value\": 77.98329355608593}, {\"annais\": \"1905\", \"categorie_nom_sexe\": \"femme_unisexe\", \"value\": 77.27554179566563}, {\"annais\": \"1906\", \"categorie_nom_sexe\": \"femme_unisexe\", \"value\": 78.60236788911348}, {\"annais\": \"1907\", \"categorie_nom_sexe\": \"femme_unisexe\", \"value\": 76.24133949191686}, {\"annais\": \"1908\", \"categorie_nom_sexe\": \"femme_unisexe\", \"value\": 74.51523545706371}, {\"annais\": \"1909\", \"categorie_nom_sexe\": \"femme_unisexe\", \"value\": 77.26211325160537}, {\"annais\": \"1910\", \"categorie_nom_sexe\": \"femme_unisexe\", \"value\": 75.87982832618026}, {\"annais\": \"1911\", \"categorie_nom_sexe\": \"femme_unisexe\", \"value\": 74.45520581113801}, {\"annais\": \"1912\", \"categorie_nom_sexe\": \"femme_unisexe\", \"value\": 74.03078677309009}, {\"annais\": \"1913\", \"categorie_nom_sexe\": \"femme_unisexe\", \"value\": 74.84995713060874}, {\"annais\": \"1914\", \"categorie_nom_sexe\": \"femme_unisexe\", \"value\": 72.8402932738285}, {\"annais\": \"1915\", \"categorie_nom_sexe\": \"femme_unisexe\", \"value\": 71.33443163097199}, {\"annais\": \"1916\", \"categorie_nom_sexe\": \"femme_unisexe\", \"value\": 72.50172294968986}, {\"annais\": \"1917\", \"categorie_nom_sexe\": \"femme_unisexe\", \"value\": 74.01812688821752}, {\"annais\": \"1918\", \"categorie_nom_sexe\": \"femme_unisexe\", \"value\": 74.51235370611184}, {\"annais\": \"1920\", \"categorie_nom_sexe\": \"femme_unisexe\", \"value\": 69.38775510204081}, {\"annais\": \"1921\", \"categorie_nom_sexe\": \"femme_unisexe\", \"value\": 66.59079413252402}, {\"annais\": \"1922\", \"categorie_nom_sexe\": \"femme_unisexe\", \"value\": 65.11846117757447}, {\"annais\": \"1923\", \"categorie_nom_sexe\": \"femme_unisexe\", \"value\": 62.902881536819635}, {\"annais\": \"1924\", \"categorie_nom_sexe\": \"femme_unisexe\", \"value\": 60.48677248677249}, {\"annais\": \"1925\", \"categorie_nom_sexe\": \"femme_unisexe\", \"value\": 58.29444208739923}, {\"annais\": \"1926\", \"categorie_nom_sexe\": \"femme_unisexe\", \"value\": 55.38783093358105}, {\"annais\": \"1927\", \"categorie_nom_sexe\": \"femme_unisexe\", \"value\": 53.326857697911606}, {\"annais\": \"1928\", \"categorie_nom_sexe\": \"femme_unisexe\", \"value\": 53.376282510140776}, {\"annais\": \"1929\", \"categorie_nom_sexe\": \"femme_unisexe\", \"value\": 50.08530343650987}, {\"annais\": \"1930\", \"categorie_nom_sexe\": \"femme_unisexe\", \"value\": 50.77940481813888}, {\"annais\": \"1931\", \"categorie_nom_sexe\": \"femme_unisexe\", \"value\": 49.00317172632533}, {\"annais\": \"1932\", \"categorie_nom_sexe\": \"femme_unisexe\", \"value\": 49.44812362030905}, {\"annais\": \"1933\", \"categorie_nom_sexe\": \"femme_unisexe\", \"value\": 50.06464959917248}, {\"annais\": \"1934\", \"categorie_nom_sexe\": \"femme_unisexe\", \"value\": 48.522757519297315}, {\"annais\": \"1935\", \"categorie_nom_sexe\": \"femme_unisexe\", \"value\": 49.29201175527652}, {\"annais\": \"1936\", \"categorie_nom_sexe\": \"femme_unisexe\", \"value\": 49.34733257661748}, {\"annais\": \"1937\", \"categorie_nom_sexe\": \"femme_unisexe\", \"value\": 49.8272884283247}, {\"annais\": \"1938\", \"categorie_nom_sexe\": \"femme_unisexe\", \"value\": 47.36998514115899}, {\"annais\": \"1939\", \"categorie_nom_sexe\": \"femme_unisexe\", \"value\": 48.32975789151088}, {\"annais\": \"1940\", \"categorie_nom_sexe\": \"femme_unisexe\", \"value\": 47.99833194328607}, {\"annais\": \"1941\", \"categorie_nom_sexe\": \"femme_unisexe\", \"value\": 49.11694510739857}, {\"annais\": \"1942\", \"categorie_nom_sexe\": \"femme_unisexe\", \"value\": 49.31159420289855}, {\"annais\": \"1943\", \"categorie_nom_sexe\": \"femme_unisexe\", \"value\": 47.91194561346714}, {\"annais\": \"1944\", \"categorie_nom_sexe\": \"femme_unisexe\", \"value\": 49.49970570924073}, {\"annais\": \"1945\", \"categorie_nom_sexe\": \"femme_unisexe\", \"value\": 47.71260174010665}, {\"annais\": \"1946\", \"categorie_nom_sexe\": \"femme_unisexe\", \"value\": 48.96626768226333}, {\"annais\": \"1947\", \"categorie_nom_sexe\": \"femme_unisexe\", \"value\": 48.86527377521614}, {\"annais\": \"1948\", \"categorie_nom_sexe\": \"femme_unisexe\", \"value\": 49.39159292035398}, {\"annais\": \"1949\", \"categorie_nom_sexe\": \"femme_unisexe\", \"value\": 50.713404967412366}, {\"annais\": \"1950\", \"categorie_nom_sexe\": \"femme_unisexe\", \"value\": 51.75627240143369}, {\"annais\": \"1951\", \"categorie_nom_sexe\": \"femme_unisexe\", \"value\": 52.461832061068705}, {\"annais\": \"1952\", \"categorie_nom_sexe\": \"femme_unisexe\", \"value\": 51.941097724230254}, {\"annais\": \"1953\", \"categorie_nom_sexe\": \"femme_unisexe\", \"value\": 52.419674732249106}, {\"annais\": \"1954\", \"categorie_nom_sexe\": \"femme_unisexe\", \"value\": 52.93298866573871}, {\"annais\": \"1955\", \"categorie_nom_sexe\": \"femme_unisexe\", \"value\": 53.476144109055504}, {\"annais\": \"1956\", \"categorie_nom_sexe\": \"femme_unisexe\", \"value\": 54.95039481676453}, {\"annais\": \"1957\", \"categorie_nom_sexe\": \"femme_unisexe\", \"value\": 56.03065752319484}, {\"annais\": \"1958\", \"categorie_nom_sexe\": \"femme_unisexe\", \"value\": 56.91511387163561}, {\"annais\": \"1959\", \"categorie_nom_sexe\": \"femme_unisexe\", \"value\": 56.697435897435895}, {\"annais\": \"1960\", \"categorie_nom_sexe\": \"femme_unisexe\", \"value\": 60.14861995753716}, {\"annais\": \"1961\", \"categorie_nom_sexe\": \"femme_unisexe\", \"value\": 61.00330305532618}, {\"annais\": \"1962\", \"categorie_nom_sexe\": \"femme_unisexe\", \"value\": 61.89658871486805}, {\"annais\": \"1963\", \"categorie_nom_sexe\": \"femme_unisexe\", \"value\": 63.720834193681604}, {\"annais\": \"1964\", \"categorie_nom_sexe\": \"femme_unisexe\", \"value\": 65.56564822460776}, {\"annais\": \"1965\", \"categorie_nom_sexe\": \"femme_unisexe\", \"value\": 67.17382242601084}, {\"annais\": \"1966\", \"categorie_nom_sexe\": \"femme_unisexe\", \"value\": 66.97695035460993}, {\"annais\": \"1967\", \"categorie_nom_sexe\": \"femme_unisexe\", \"value\": 66.5283540802213}, {\"annais\": \"1968\", \"categorie_nom_sexe\": \"femme_unisexe\", \"value\": 63.14699792960663}, {\"annais\": \"1969\", \"categorie_nom_sexe\": \"femme_unisexe\", \"value\": 63.05452865064695}, {\"annais\": \"1970\", \"categorie_nom_sexe\": \"femme_unisexe\", \"value\": 59.86842105263158}, {\"annais\": \"1971\", \"categorie_nom_sexe\": \"femme_unisexe\", \"value\": 58.26790387818225}, {\"annais\": \"1972\", \"categorie_nom_sexe\": \"femme_unisexe\", \"value\": 54.996505939902164}, {\"annais\": \"1973\", \"categorie_nom_sexe\": \"femme_unisexe\", \"value\": 54.26963542941033}, {\"annais\": \"1974\", \"categorie_nom_sexe\": \"femme_unisexe\", \"value\": 52.15137376879212}, {\"annais\": \"1975\", \"categorie_nom_sexe\": \"femme_unisexe\", \"value\": 51.18981737686774}, {\"annais\": \"1976\", \"categorie_nom_sexe\": \"femme_unisexe\", \"value\": 51.111111111111114}, {\"annais\": \"1977\", \"categorie_nom_sexe\": \"femme_unisexe\", \"value\": 49.61854460093897}, {\"annais\": \"1978\", \"categorie_nom_sexe\": \"femme_unisexe\", \"value\": 49.305769824128355}, {\"annais\": \"1979\", \"categorie_nom_sexe\": \"femme_unisexe\", \"value\": 50.179533213644525}, {\"annais\": \"1980\", \"categorie_nom_sexe\": \"femme_unisexe\", \"value\": 50.99667774086379}, {\"annais\": \"1981\", \"categorie_nom_sexe\": \"femme_unisexe\", \"value\": 50.725041829336305}, {\"annais\": \"1982\", \"categorie_nom_sexe\": \"femme_unisexe\", \"value\": 50.645994832041346}, {\"annais\": \"1983\", \"categorie_nom_sexe\": \"femme_unisexe\", \"value\": 51.26979384523454}, {\"annais\": \"1984\", \"categorie_nom_sexe\": \"femme_unisexe\", \"value\": 52.166276346604214}, {\"annais\": \"1985\", \"categorie_nom_sexe\": \"femme_unisexe\", \"value\": 50.2515537141166}, {\"annais\": \"1986\", \"categorie_nom_sexe\": \"femme_unisexe\", \"value\": 48.47708511243951}, {\"annais\": \"1987\", \"categorie_nom_sexe\": \"femme_unisexe\", \"value\": 49.39688143571639}, {\"annais\": \"1988\", \"categorie_nom_sexe\": \"femme_unisexe\", \"value\": 49.11206368646663}, {\"annais\": \"1989\", \"categorie_nom_sexe\": \"femme_unisexe\", \"value\": 48.65782165998149}, {\"annais\": \"1990\", \"categorie_nom_sexe\": \"femme_unisexe\", \"value\": 47.15602160788052}, {\"annais\": \"1991\", \"categorie_nom_sexe\": \"femme_unisexe\", \"value\": 45.4983922829582}, {\"annais\": \"1992\", \"categorie_nom_sexe\": \"femme_unisexe\", \"value\": 48.52748691099477}, {\"annais\": \"1993\", \"categorie_nom_sexe\": \"femme_unisexe\", \"value\": 49.56678700361011}, {\"annais\": \"1994\", \"categorie_nom_sexe\": \"femme_unisexe\", \"value\": 48.449470995986864}, {\"annais\": \"1995\", \"categorie_nom_sexe\": \"femme_unisexe\", \"value\": 49.11598302687412}, {\"annais\": \"1996\", \"categorie_nom_sexe\": \"femme_unisexe\", \"value\": 49.324804548685144}, {\"annais\": \"1997\", \"categorie_nom_sexe\": \"femme_unisexe\", \"value\": 49.538915529324974}, {\"annais\": \"1998\", \"categorie_nom_sexe\": \"femme_unisexe\", \"value\": 50.67297198981448}, {\"annais\": \"1999\", \"categorie_nom_sexe\": \"femme_unisexe\", \"value\": 51.76005747126437}, {\"annais\": \"2000\", \"categorie_nom_sexe\": \"femme_unisexe\", \"value\": 50.24717514124294}, {\"annais\": \"2001\", \"categorie_nom_sexe\": \"femme_unisexe\", \"value\": 51.18912797281993}, {\"annais\": \"2002\", \"categorie_nom_sexe\": \"femme_unisexe\", \"value\": 49.94241842610365}, {\"annais\": \"2003\", \"categorie_nom_sexe\": \"femme_unisexe\", \"value\": 52.02757502027575}, {\"annais\": \"2004\", \"categorie_nom_sexe\": \"femme_unisexe\", \"value\": 49.8728813559322}, {\"annais\": \"2005\", \"categorie_nom_sexe\": \"femme_unisexe\", \"value\": 50.08467400508044}, {\"annais\": \"2006\", \"categorie_nom_sexe\": \"femme_unisexe\", \"value\": 50.239651416122}, {\"annais\": \"2007\", \"categorie_nom_sexe\": \"femme_unisexe\", \"value\": 48.1979817395483}, {\"annais\": \"2008\", \"categorie_nom_sexe\": \"femme_unisexe\", \"value\": 51.326259946949605}, {\"annais\": \"2009\", \"categorie_nom_sexe\": \"femme_unisexe\", \"value\": 49.76348155156102}, {\"annais\": \"2010\", \"categorie_nom_sexe\": \"femme_unisexe\", \"value\": 48.96684286400769}, {\"annais\": \"2011\", \"categorie_nom_sexe\": \"femme_unisexe\", \"value\": 49.952335557673976}, {\"annais\": \"2012\", \"categorie_nom_sexe\": \"femme_unisexe\", \"value\": 45.63253012048193}, {\"annais\": \"2013\", \"categorie_nom_sexe\": \"femme_unisexe\", \"value\": 49.0073145245559}, {\"annais\": \"2014\", \"categorie_nom_sexe\": \"femme_unisexe\", \"value\": 47.667020148462356}, {\"annais\": \"2015\", \"categorie_nom_sexe\": \"femme_unisexe\", \"value\": 48.86609071274298}, {\"annais\": \"2016\", \"categorie_nom_sexe\": \"femme_unisexe\", \"value\": 49.014925373134325}, {\"annais\": \"2017\", \"categorie_nom_sexe\": \"femme_unisexe\", \"value\": 48.86013555144794}, {\"annais\": \"2018\", \"categorie_nom_sexe\": \"femme_unisexe\", \"value\": 51.20994113799869}, {\"annais\": \"2019\", \"categorie_nom_sexe\": \"femme_unisexe\", \"value\": 51.49963423555231}, {\"annais\": \"2020\", \"categorie_nom_sexe\": \"femme_unisexe\", \"value\": 49.65986394557823}, {\"annais\": \"1919\", \"categorie_nom_sexe\": \"femme_unisexe\", \"value\": 74.0464344941957}, {\"annais\": \"1900\", \"categorie_nom_sexe\": \"femme_seulmt\", \"value\": 21.401580212985227}, {\"annais\": \"1901\", \"categorie_nom_sexe\": \"femme_seulmt\", \"value\": 19.955442393380014}, {\"annais\": \"1902\", \"categorie_nom_sexe\": \"femme_seulmt\", \"value\": 20.17868145409735}, {\"annais\": \"1903\", \"categorie_nom_sexe\": \"femme_seulmt\", \"value\": 21.98181248040138}, {\"annais\": \"1904\", \"categorie_nom_sexe\": \"femme_seulmt\", \"value\": 22.01670644391408}, {\"annais\": \"1905\", \"categorie_nom_sexe\": \"femme_seulmt\", \"value\": 22.724458204334365}, {\"annais\": \"1906\", \"categorie_nom_sexe\": \"femme_seulmt\", \"value\": 21.397632110886516}, {\"annais\": \"1907\", \"categorie_nom_sexe\": \"femme_seulmt\", \"value\": 23.758660508083143}, {\"annais\": \"1908\", \"categorie_nom_sexe\": \"femme_seulmt\", \"value\": 25.484764542936286}, {\"annais\": \"1909\", \"categorie_nom_sexe\": \"femme_seulmt\", \"value\": 22.73788674839463}, {\"annais\": \"1910\", \"categorie_nom_sexe\": \"femme_seulmt\", \"value\": 24.120171673819744}, {\"annais\": \"1911\", \"categorie_nom_sexe\": \"femme_seulmt\", \"value\": 25.544794188861985}, {\"annais\": \"1912\", \"categorie_nom_sexe\": \"femme_seulmt\", \"value\": 25.969213226909922}, {\"annais\": \"1913\", \"categorie_nom_sexe\": \"femme_seulmt\", \"value\": 25.150042869391253}, {\"annais\": \"1914\", \"categorie_nom_sexe\": \"femme_seulmt\", \"value\": 27.1597067261715}, {\"annais\": \"1915\", \"categorie_nom_sexe\": \"femme_seulmt\", \"value\": 28.665568369028005}, {\"annais\": \"1916\", \"categorie_nom_sexe\": \"femme_seulmt\", \"value\": 27.49827705031013}, {\"annais\": \"1917\", \"categorie_nom_sexe\": \"femme_seulmt\", \"value\": 25.981873111782477}, {\"annais\": \"1918\", \"categorie_nom_sexe\": \"femme_seulmt\", \"value\": 25.487646293888165}, {\"annais\": \"1920\", \"categorie_nom_sexe\": \"femme_seulmt\", \"value\": 30.612244897959183}, {\"annais\": \"1921\", \"categorie_nom_sexe\": \"femme_seulmt\", \"value\": 33.409205867475976}, {\"annais\": \"1922\", \"categorie_nom_sexe\": \"femme_seulmt\", \"value\": 34.88153882242552}, {\"annais\": \"1923\", \"categorie_nom_sexe\": \"femme_seulmt\", \"value\": 37.097118463180365}, {\"annais\": \"1924\", \"categorie_nom_sexe\": \"femme_seulmt\", \"value\": 39.51322751322751}, {\"annais\": \"1925\", \"categorie_nom_sexe\": \"femme_seulmt\", \"value\": 41.70555791260077}, {\"annais\": \"1926\", \"categorie_nom_sexe\": \"femme_seulmt\", \"value\": 44.61216906641895}, {\"annais\": \"1927\", \"categorie_nom_sexe\": \"femme_seulmt\", \"value\": 46.673142302088394}, {\"annais\": \"1928\", \"categorie_nom_sexe\": \"femme_seulmt\", \"value\": 46.623717489859224}, {\"annais\": \"1929\", \"categorie_nom_sexe\": \"femme_seulmt\", \"value\": 49.91469656349013}, {\"annais\": \"1930\", \"categorie_nom_sexe\": \"femme_seulmt\", \"value\": 49.22059518186112}, {\"annais\": \"1931\", \"categorie_nom_sexe\": \"femme_seulmt\", \"value\": 50.99682827367467}, {\"annais\": \"1932\", \"categorie_nom_sexe\": \"femme_seulmt\", \"value\": 50.55187637969095}, {\"annais\": \"1933\", \"categorie_nom_sexe\": \"femme_seulmt\", \"value\": 49.93535040082752}, {\"annais\": \"1934\", \"categorie_nom_sexe\": \"femme_seulmt\", \"value\": 51.477242480702685}, {\"annais\": \"1935\", \"categorie_nom_sexe\": \"femme_seulmt\", \"value\": 50.70798824472348}, {\"annais\": \"1936\", \"categorie_nom_sexe\": \"femme_seulmt\", \"value\": 50.65266742338252}, {\"annais\": \"1937\", \"categorie_nom_sexe\": \"femme_seulmt\", \"value\": 50.1727115716753}, {\"annais\": \"1938\", \"categorie_nom_sexe\": \"femme_seulmt\", \"value\": 52.63001485884101}, {\"annais\": \"1939\", \"categorie_nom_sexe\": \"femme_seulmt\", \"value\": 51.67024210848912}, {\"annais\": \"1940\", \"categorie_nom_sexe\": \"femme_seulmt\", \"value\": 52.00166805671393}, {\"annais\": \"1941\", \"categorie_nom_sexe\": \"femme_seulmt\", \"value\": 50.88305489260143}, {\"annais\": \"1942\", \"categorie_nom_sexe\": \"femme_seulmt\", \"value\": 50.68840579710145}, {\"annais\": \"1943\", \"categorie_nom_sexe\": \"femme_seulmt\", \"value\": 52.08805438653286}, {\"annais\": \"1944\", \"categorie_nom_sexe\": \"femme_seulmt\", \"value\": 50.50029429075927}, {\"annais\": \"1945\", \"categorie_nom_sexe\": \"femme_seulmt\", \"value\": 52.28739825989335}, {\"annais\": \"1946\", \"categorie_nom_sexe\": \"femme_seulmt\", \"value\": 51.03373231773667}, {\"annais\": \"1947\", \"categorie_nom_sexe\": \"femme_seulmt\", \"value\": 51.13472622478386}, {\"annais\": \"1948\", \"categorie_nom_sexe\": \"femme_seulmt\", \"value\": 50.60840707964602}, {\"annais\": \"1949\", \"categorie_nom_sexe\": \"femme_seulmt\", \"value\": 49.286595032587634}, {\"annais\": \"1950\", \"categorie_nom_sexe\": \"femme_seulmt\", \"value\": 48.24372759856631}, {\"annais\": \"1951\", \"categorie_nom_sexe\": \"femme_seulmt\", \"value\": 47.538167938931295}, {\"annais\": \"1952\", \"categorie_nom_sexe\": \"femme_seulmt\", \"value\": 48.058902275769746}, {\"annais\": \"1953\", \"categorie_nom_sexe\": \"femme_seulmt\", \"value\": 47.580325267750894}, {\"annais\": \"1954\", \"categorie_nom_sexe\": \"femme_seulmt\", \"value\": 47.06701133426129}, {\"annais\": \"1955\", \"categorie_nom_sexe\": \"femme_seulmt\", \"value\": 46.523855890944496}, {\"annais\": \"1956\", \"categorie_nom_sexe\": \"femme_seulmt\", \"value\": 45.04960518323547}, {\"annais\": \"1957\", \"categorie_nom_sexe\": \"femme_seulmt\", \"value\": 43.96934247680516}, {\"annais\": \"1958\", \"categorie_nom_sexe\": \"femme_seulmt\", \"value\": 43.08488612836439}, {\"annais\": \"1959\", \"categorie_nom_sexe\": \"femme_seulmt\", \"value\": 43.302564102564105}, {\"annais\": \"1960\", \"categorie_nom_sexe\": \"femme_seulmt\", \"value\": 39.85138004246284}, {\"annais\": \"1961\", \"categorie_nom_sexe\": \"femme_seulmt\", \"value\": 38.99669694467382}, {\"annais\": \"1962\", \"categorie_nom_sexe\": \"femme_seulmt\", \"value\": 38.10341128513195}, {\"annais\": \"1963\", \"categorie_nom_sexe\": \"femme_seulmt\", \"value\": 36.279165806318396}, {\"annais\": \"1964\", \"categorie_nom_sexe\": \"femme_seulmt\", \"value\": 34.43435177539224}, {\"annais\": \"1965\", \"categorie_nom_sexe\": \"femme_seulmt\", \"value\": 32.82617757398916}, {\"annais\": \"1966\", \"categorie_nom_sexe\": \"femme_seulmt\", \"value\": 33.023049645390074}, {\"annais\": \"1967\", \"categorie_nom_sexe\": \"femme_seulmt\", \"value\": 33.4716459197787}, {\"annais\": \"1968\", \"categorie_nom_sexe\": \"femme_seulmt\", \"value\": 36.85300207039337}, {\"annais\": \"1969\", \"categorie_nom_sexe\": \"femme_seulmt\", \"value\": 36.94547134935305}, {\"annais\": \"1970\", \"categorie_nom_sexe\": \"femme_seulmt\", \"value\": 40.13157894736842}, {\"annais\": \"1971\", \"categorie_nom_sexe\": \"femme_seulmt\", \"value\": 41.73209612181775}, {\"annais\": \"1972\", \"categorie_nom_sexe\": \"femme_seulmt\", \"value\": 45.003494060097836}, {\"annais\": \"1973\", \"categorie_nom_sexe\": \"femme_seulmt\", \"value\": 45.73036457058967}, {\"annais\": \"1974\", \"categorie_nom_sexe\": \"femme_seulmt\", \"value\": 47.84862623120788}, {\"annais\": \"1975\", \"categorie_nom_sexe\": \"femme_seulmt\", \"value\": 48.81018262313226}, {\"annais\": \"1976\", \"categorie_nom_sexe\": \"femme_seulmt\", \"value\": 48.888888888888886}, {\"annais\": \"1977\", \"categorie_nom_sexe\": \"femme_seulmt\", \"value\": 50.38145539906103}, {\"annais\": \"1978\", \"categorie_nom_sexe\": \"femme_seulmt\", \"value\": 50.694230175871645}, {\"annais\": \"1979\", \"categorie_nom_sexe\": \"femme_seulmt\", \"value\": 49.820466786355475}, {\"annais\": \"1980\", \"categorie_nom_sexe\": \"femme_seulmt\", \"value\": 49.00332225913621}, {\"annais\": \"1981\", \"categorie_nom_sexe\": \"femme_seulmt\", \"value\": 49.274958170663695}, {\"annais\": \"1982\", \"categorie_nom_sexe\": \"femme_seulmt\", \"value\": 49.354005167958654}, {\"annais\": \"1983\", \"categorie_nom_sexe\": \"femme_seulmt\", \"value\": 48.73020615476546}, {\"annais\": \"1984\", \"categorie_nom_sexe\": \"femme_seulmt\", \"value\": 47.833723653395786}, {\"annais\": \"1985\", \"categorie_nom_sexe\": \"femme_seulmt\", \"value\": 49.7484462858834}, {\"annais\": \"1986\", \"categorie_nom_sexe\": \"femme_seulmt\", \"value\": 51.52291488756049}, {\"annais\": \"1987\", \"categorie_nom_sexe\": \"femme_seulmt\", \"value\": 50.60311856428361}, {\"annais\": \"1988\", \"categorie_nom_sexe\": \"femme_seulmt\", \"value\": 50.88793631353337}, {\"annais\": \"1989\", \"categorie_nom_sexe\": \"femme_seulmt\", \"value\": 51.34217834001851}, {\"annais\": \"1990\", \"categorie_nom_sexe\": \"femme_seulmt\", \"value\": 52.84397839211948}, {\"annais\": \"1991\", \"categorie_nom_sexe\": \"femme_seulmt\", \"value\": 54.5016077170418}, {\"annais\": \"1992\", \"categorie_nom_sexe\": \"femme_seulmt\", \"value\": 51.47251308900523}, {\"annais\": \"1993\", \"categorie_nom_sexe\": \"femme_seulmt\", \"value\": 50.43321299638989}, {\"annais\": \"1994\", \"categorie_nom_sexe\": \"femme_seulmt\", \"value\": 51.550529004013136}, {\"annais\": \"1995\", \"categorie_nom_sexe\": \"femme_seulmt\", \"value\": 50.88401697312588}, {\"annais\": \"1996\", \"categorie_nom_sexe\": \"femme_seulmt\", \"value\": 50.675195451314856}, {\"annais\": \"1997\", \"categorie_nom_sexe\": \"femme_seulmt\", \"value\": 50.461084470675026}, {\"annais\": \"1998\", \"categorie_nom_sexe\": \"femme_seulmt\", \"value\": 49.32702801018552}, {\"annais\": \"1999\", \"categorie_nom_sexe\": \"femme_seulmt\", \"value\": 48.23994252873563}, {\"annais\": \"2000\", \"categorie_nom_sexe\": \"femme_seulmt\", \"value\": 49.75282485875706}, {\"annais\": \"2001\", \"categorie_nom_sexe\": \"femme_seulmt\", \"value\": 48.81087202718007}, {\"annais\": \"2002\", \"categorie_nom_sexe\": \"femme_seulmt\", \"value\": 50.05758157389635}, {\"annais\": \"2003\", \"categorie_nom_sexe\": \"femme_seulmt\", \"value\": 47.97242497972425}, {\"annais\": \"2004\", \"categorie_nom_sexe\": \"femme_seulmt\", \"value\": 50.1271186440678}, {\"annais\": \"2005\", \"categorie_nom_sexe\": \"femme_seulmt\", \"value\": 49.91532599491956}, {\"annais\": \"2006\", \"categorie_nom_sexe\": \"femme_seulmt\", \"value\": 49.760348583878}, {\"annais\": \"2007\", \"categorie_nom_sexe\": \"femme_seulmt\", \"value\": 51.8020182604517}, {\"annais\": \"2008\", \"categorie_nom_sexe\": \"femme_seulmt\", \"value\": 48.673740053050395}, {\"annais\": \"2009\", \"categorie_nom_sexe\": \"femme_seulmt\", \"value\": 50.23651844843898}, {\"annais\": \"2010\", \"categorie_nom_sexe\": \"femme_seulmt\", \"value\": 51.03315713599231}, {\"annais\": \"2011\", \"categorie_nom_sexe\": \"femme_seulmt\", \"value\": 50.047664442326024}, {\"annais\": \"2012\", \"categorie_nom_sexe\": \"femme_seulmt\", \"value\": 54.36746987951807}, {\"annais\": \"2013\", \"categorie_nom_sexe\": \"femme_seulmt\", \"value\": 50.9926854754441}, {\"annais\": \"2014\", \"categorie_nom_sexe\": \"femme_seulmt\", \"value\": 52.332979851537644}, {\"annais\": \"2015\", \"categorie_nom_sexe\": \"femme_seulmt\", \"value\": 51.13390928725702}, {\"annais\": \"2016\", \"categorie_nom_sexe\": \"femme_seulmt\", \"value\": 50.985074626865675}, {\"annais\": \"2017\", \"categorie_nom_sexe\": \"femme_seulmt\", \"value\": 51.13986444855206}, {\"annais\": \"2018\", \"categorie_nom_sexe\": \"femme_seulmt\", \"value\": 48.79005886200131}, {\"annais\": \"2019\", \"categorie_nom_sexe\": \"femme_seulmt\", \"value\": 48.50036576444769}, {\"annais\": \"2020\", \"categorie_nom_sexe\": \"femme_seulmt\", \"value\": 50.34013605442177}, {\"annais\": \"1919\", \"categorie_nom_sexe\": \"femme_seulmt\", \"value\": 25.953565505804313}]}}, {\"mode\": \"vega-lite\"});\n",
       "</script>"
      ],
      "text/plain": [
       "alt.Chart(...)"
      ]
     },
     "metadata": {},
     "output_type": "display_data"
    }
   ],
   "source": [
    "chart.display()"
   ]
  },
  {
   "attachments": {},
   "cell_type": "markdown",
   "metadata": {},
   "source": [
    "Maybe I'll invert x and y"
   ]
  },
  {
   "attachments": {},
   "cell_type": "markdown",
   "metadata": {},
   "source": [
    "---"
   ]
  },
  {
   "attachments": {},
   "cell_type": "markdown",
   "metadata": {},
   "source": [
    "Now we should place organize our graphs knowing their location. Unfortunately altair does not seem fit for this task.\n",
    "\n",
    "But even before that we need to generate a graph for each dpt."
   ]
  },
  {
   "cell_type": "code",
   "execution_count": 25,
   "metadata": {},
   "outputs": [
    {
     "data": {
      "text/html": [
       "<div><style>\n",
       ".dataframe > thead > tr > th,\n",
       ".dataframe > tbody > tr > td {\n",
       "  text-align: right;\n",
       "}\n",
       "</style>\n",
       "<small>shape: (100, 6)</small><table border=\"1\" class=\"dataframe\"><thead><tr><th>nom</th><th>dpt</th><th>aire</th><th>longitude</th><th>latitude</th><th>population_periode</th></tr><tr><td>str</td><td>str</td><td>str</td><td>f64</td><td>f64</td><td>i64</td></tr></thead><tbody><tr><td>&quot;Aisne&quot;</td><td>&quot;02&quot;</td><td>&quot;7 419&quot;</td><td>3.558333</td><td>49.559444</td><td>848804</td></tr><tr><td>&quot;Alpes-de-Haute…</td><td>&quot;04&quot;</td><td>&quot;6 996&quot;</td><td>6.243889</td><td>44.106111</td><td>106288</td></tr><tr><td>&quot;Hautes-Alpes&quot;</td><td>&quot;05&quot;</td><td>&quot;5 689&quot;</td><td>6.263056</td><td>44.663611</td><td>127230</td></tr><tr><td>&quot;Alpes-Maritime…</td><td>&quot;06&quot;</td><td>&quot;4 297&quot;</td><td>7.116389</td><td>43.9375</td><td>827519</td></tr><tr><td>&quot;Ardèche&quot;</td><td>&quot;07&quot;</td><td>&quot;5 565&quot;</td><td>4.424722</td><td>44.751667</td><td>357088</td></tr><tr><td>&quot;Ardennes&quot;</td><td>&quot;08&quot;</td><td>&quot;5 244&quot;</td><td>4.640833</td><td>49.615556</td><td>449218</td></tr><tr><td>&quot;Ariège&quot;</td><td>&quot;09&quot;</td><td>&quot;4 908&quot;</td><td>1.503889</td><td>42.920833</td><td>157497</td></tr><tr><td>&quot;Aube&quot;</td><td>&quot;10&quot;</td><td>&quot;6 027&quot;</td><td>4.161667</td><td>48.304444</td><td>383359</td></tr><tr><td>&quot;Aude&quot;</td><td>&quot;11&quot;</td><td>&quot;6 345&quot;</td><td>2.414167</td><td>43.103333</td><td>358564</td></tr><tr><td>&quot;Aveyron&quot;</td><td>&quot;12&quot;</td><td>&quot;8 774&quot;</td><td>2.679722</td><td>44.280278</td><td>405758</td></tr><tr><td>&quot;Bouches-du-Rhô…</td><td>&quot;13&quot;</td><td>&quot;5 247&quot;</td><td>5.086389</td><td>43.543333</td><td>2008428</td></tr><tr><td>&quot;Charente&quot;</td><td>&quot;16&quot;</td><td>&quot;5 974&quot;</td><td>0.201667</td><td>45.718056</td><td>468626</td></tr><tr><td>&hellip;</td><td>&hellip;</td><td>&hellip;</td><td>&hellip;</td><td>&hellip;</td><td>&hellip;</td></tr><tr><td>&quot;Ain&quot;</td><td>&quot;01&quot;</td><td>&quot;5 785&quot;</td><td>5.348889</td><td>46.099444</td><td>442329</td></tr><tr><td>&quot;Meuse&quot;</td><td>&quot;55&quot;</td><td>&quot;6 236&quot;</td><td>5.381667</td><td>48.989444</td><td>300501</td></tr><tr><td>&quot;Indre&quot;</td><td>&quot;36&quot;</td><td>&quot;6 898&quot;</td><td>1.575833</td><td>46.777778</td><td>336841</td></tr><tr><td>&quot;Creuse&quot;</td><td>&quot;23&quot;</td><td>&quot;5 599&quot;</td><td>2.018889</td><td>46.090278</td><td>181494</td></tr><tr><td>&quot;Côte-d&#x27;Or&quot;</td><td>&quot;21&quot;</td><td>&quot;8 803&quot;</td><td>4.772222</td><td>47.424722</td><td>630183</td></tr><tr><td>&quot;Territoire de …</td><td>&quot;90&quot;</td><td>&quot;612&quot;</td><td>6.928611</td><td>47.631667</td><td>184322</td></tr><tr><td>&quot;Essonne&quot;</td><td>&quot;91&quot;</td><td>&quot;1 819&quot;</td><td>2.243056</td><td>48.522222</td><td>593199</td></tr><tr><td>&quot;Hauts-de-Seine…</td><td>&quot;92&quot;</td><td>&quot;175&quot;</td><td>2.245833</td><td>48.847222</td><td>1193794</td></tr><tr><td>&quot;Seine-Saint-De…</td><td>&quot;93&quot;</td><td>&quot;237&quot;</td><td>2.478056</td><td>48.9175</td><td>1011091</td></tr><tr><td>&quot;Val-de-Marne&quot;</td><td>&quot;94&quot;</td><td>&quot;246&quot;</td><td>2.468889</td><td>48.7775</td><td>835966</td></tr><tr><td>&quot;Val-d&#x27;Oise&quot;</td><td>&quot;95&quot;</td><td>&quot;1 253&quot;</td><td>2.131111</td><td>49.082778</td><td>702033</td></tr><tr><td>null</td><td>&quot;XX&quot;</td><td>null</td><td>null</td><td>null</td><td>8667245</td></tr></tbody></table></div>"
      ],
      "text/plain": [
       "shape: (100, 6)\n",
       "┌─────────────────────────┬─────┬───────┬───────────┬───────────┬────────────────────┐\n",
       "│ nom                     ┆ dpt ┆ aire  ┆ longitude ┆ latitude  ┆ population_periode │\n",
       "│ ---                     ┆ --- ┆ ---   ┆ ---       ┆ ---       ┆ ---                │\n",
       "│ str                     ┆ str ┆ str   ┆ f64       ┆ f64       ┆ i64                │\n",
       "╞═════════════════════════╪═════╪═══════╪═══════════╪═══════════╪════════════════════╡\n",
       "│ Aisne                   ┆ 02  ┆ 7 419 ┆ 3.558333  ┆ 49.559444 ┆ 848804             │\n",
       "│ Alpes-de-Haute-Provence ┆ 04  ┆ 6 996 ┆ 6.243889  ┆ 44.106111 ┆ 106288             │\n",
       "│ Hautes-Alpes            ┆ 05  ┆ 5 689 ┆ 6.263056  ┆ 44.663611 ┆ 127230             │\n",
       "│ Alpes-Maritimes         ┆ 06  ┆ 4 297 ┆ 7.116389  ┆ 43.9375   ┆ 827519             │\n",
       "│ …                       ┆ …   ┆ …     ┆ …         ┆ …         ┆ …                  │\n",
       "│ Seine-Saint-Denis       ┆ 93  ┆ 237   ┆ 2.478056  ┆ 48.9175   ┆ 1011091            │\n",
       "│ Val-de-Marne            ┆ 94  ┆ 246   ┆ 2.468889  ┆ 48.7775   ┆ 835966             │\n",
       "│ Val-d'Oise              ┆ 95  ┆ 1 253 ┆ 2.131111  ┆ 49.082778 ┆ 702033             │\n",
       "│ null                    ┆ XX  ┆ null  ┆ null      ┆ null      ┆ 8667245            │\n",
       "└─────────────────────────┴─────┴───────┴───────────┴───────────┴────────────────────┘"
      ]
     },
     "execution_count": 25,
     "metadata": {},
     "output_type": "execute_result"
    }
   ],
   "source": [
    "df_dpt = df.groupby(['nom', 'dpt', 'aire', 'longitude', 'latitude'], maintain_order=True).agg(pl.col('nombre').sum().alias(\"population_periode\"))\n",
    "df_dpt"
   ]
  },
  {
   "attachments": {},
   "cell_type": "markdown",
   "metadata": {},
   "source": [
    "Actually, let's try first with 3 départements Aube, Aude, and Haute-Vienne for instance"
   ]
  },
  {
   "cell_type": "code",
   "execution_count": 125,
   "metadata": {},
   "outputs": [],
   "source": [
    "# function to get the chart for a dpt\n",
    "def gen_dpt_chart(dpt):\n",
    "    df_dpt = df.filter(pl.col('dpt') == dpt)\n",
    "    # Pivot the DataFrame\n",
    "    df_dpt_pivot = df_dpt.pivot(values='nombre', index='annais', columns=['sexe', 'sexe_unisex'], aggregate_function='sum')\n",
    "    # Calculate part of male population with unisex name, part of female population with unisex name\n",
    "    df_dpt_pivot = df_dpt_pivot.with_columns([(-100 * pl.col('1_true')/pl.col('1')).alias('homme_unisexe'), \n",
    "                        (-100 * pl.col('1_false')/pl.col('1')).alias('homme_seulmt'), \n",
    "                        (100 * pl.col('2_true')/pl.col('2')).alias('femme_unisexe'), \n",
    "                        (100 * pl.col('2_false')/pl.col('2')).alias('femme_seulmt')])\n",
    "    df_dpt_bar = df_dpt_pivot.melt(id_vars=\"annais\", value_vars=['homme_unisexe', 'homme_seulmt', 'femme_unisexe', 'femme_seulmt'], variable_name='categorie_nom_sexe')\n",
    "    # Create a stacked bar chart\n",
    "    chart = alt.Chart(df_bar).mark_bar().encode(\n",
    "        x=alt.X('annais:O', title=None, axis=None), # year\n",
    "        y=alt.Y('sum(value):Q', title=None, axis=None), # values\n",
    "        color=alt.Color('categorie_nom_sexe:N', legend=None)\n",
    "    ).properties(\n",
    "        width=100,\n",
    "        height=100\n",
    "    )\n",
    "    return chart"
   ]
  },
  {
   "cell_type": "code",
   "execution_count": 126,
   "metadata": {},
   "outputs": [
    {
     "data": {
      "text/plain": [
       "(alt.Chart(...), alt.Chart(...), alt.Chart(...))"
      ]
     },
     "execution_count": 126,
     "metadata": {},
     "output_type": "execute_result"
    }
   ],
   "source": [
    "gen_dpt_chart('10'), gen_dpt_chart('11'), gen_dpt_chart('87')"
   ]
  },
  {
   "cell_type": "code",
   "execution_count": 127,
   "metadata": {},
   "outputs": [
    {
     "data": {
      "text/html": [
       "<div><style>\n",
       ".dataframe > thead > tr > th,\n",
       ".dataframe > tbody > tr > td {\n",
       "  text-align: right;\n",
       "}\n",
       "</style>\n",
       "<small>shape: (1, 6)</small><table border=\"1\" class=\"dataframe\"><thead><tr><th>nom</th><th>dpt</th><th>aire</th><th>longitude</th><th>latitude</th><th>population_periode</th></tr><tr><td>str</td><td>str</td><td>str</td><td>f64</td><td>f64</td><td>i64</td></tr></thead><tbody><tr><td>&quot;Haute-Vienne&quot;</td><td>&quot;87&quot;</td><td>&quot;5 560&quot;</td><td>1.235278</td><td>45.891667</td><td>484520</td></tr></tbody></table></div>"
      ],
      "text/plain": [
       "shape: (1, 6)\n",
       "┌──────────────┬─────┬───────┬───────────┬───────────┬────────────────────┐\n",
       "│ nom          ┆ dpt ┆ aire  ┆ longitude ┆ latitude  ┆ population_periode │\n",
       "│ ---          ┆ --- ┆ ---   ┆ ---       ┆ ---       ┆ ---                │\n",
       "│ str          ┆ str ┆ str   ┆ f64       ┆ f64       ┆ i64                │\n",
       "╞══════════════╪═════╪═══════╪═══════════╪═══════════╪════════════════════╡\n",
       "│ Haute-Vienne ┆ 87  ┆ 5 560 ┆ 1.235278  ┆ 45.891667 ┆ 484520             │\n",
       "└──────────────┴─────┴───────┴───────────┴───────────┴────────────────────┘"
      ]
     },
     "execution_count": 127,
     "metadata": {},
     "output_type": "execute_result"
    }
   ],
   "source": [
    "# Location of the center of France, Allier is near that\n",
    "df_dpt.filter(pl.col('dpt')=='87')"
   ]
  },
  {
   "cell_type": "code",
   "execution_count": 128,
   "metadata": {},
   "outputs": [],
   "source": [
    "# Create a new map centered at some location\n",
    "# Allier : 46.393611, 3.188333\n",
    "\n",
    "# Save the charts as HTML\n",
    "chart1_html = gen_dpt_chart('10').save('chart1.html') # 48.304444, 4.161667\n",
    "chart2_html = gen_dpt_chart('11').save('chart2.html') # 43.103333, 2.414167\n",
    "chart3_html = gen_dpt_chart('87').save('chart3.html') # 45.891667, 1.235278\n"
   ]
  },
  {
   "attachments": {},
   "cell_type": "markdown",
   "metadata": {},
   "source": [
    "Web techs are worth trying here, as there are more flexible.\n",
    "So as to plot all the graphs on a same web page.\n"
   ]
  },
  {
   "cell_type": "code",
   "execution_count": 129,
   "metadata": {},
   "outputs": [],
   "source": [
    "# Generate a html graph for a dpt\n",
    "import math\n",
    "def gen_dpt_chart_html(dpt, precision=5):\n",
    "    dpt_info = df_dpt.filter(pl.col('dpt')==dpt)\n",
    "    longitude = int(round(dpt_info[\"longitude\"][0], precision)*math.pow(10, precision))\n",
    "    latitude = int(round(dpt_info[\"latitude\"][0], precision)*math.pow(10, precision))\n",
    "    gen_dpt_chart(dpt).save(f'html/chart_{dpt}_{longitude}_{latitude}.html')"
   ]
  },
  {
   "cell_type": "code",
   "execution_count": 130,
   "metadata": {},
   "outputs": [
    {
     "data": {
      "text/plain": [
       "(None, None, None)"
      ]
     },
     "execution_count": 130,
     "metadata": {},
     "output_type": "execute_result"
    }
   ],
   "source": [
    "gen_dpt_chart_html('10'), gen_dpt_chart_html('11'), gen_dpt_chart_html('87')"
   ]
  },
  {
   "cell_type": "code",
   "execution_count": 155,
   "metadata": {},
   "outputs": [],
   "source": [
    "import os\n",
    "import re\n",
    "\n",
    "precision=5\n",
    "\n",
    "# Get all html files in the html directory\n",
    "dir = 'html'\n",
    "html_files = [f for f in os.listdir(dir) if f.endswith('.html')]\n",
    "\n",
    "# Define the base html structure\n",
    "html = \"\"\"\n",
    "<!DOCTYPE html>\n",
    "<html>\n",
    "  <head>\n",
    "    <script src=\"https://d3js.org/d3.v5.min.js\"></script>\n",
    "  </head>\n",
    "  <body>\n",
    "    <script>\n",
    "      // Create the projection\n",
    "      var projection = d3.geoMercator()\n",
    "          .scale(10000)\n",
    "          .center([2.454071, 46.279229]);  // Longitude and latitude of France's center\n",
    "\n",
    "      // Load the positions and charts from a list of files\n",
    "      var charts = {varcharts};\n",
    "\n",
    "      // Create divs for each chart and load them\n",
    "      for (var id in charts) {{\n",
    "        var coords = projection([charts[id].long, charts[id].lat]);\n",
    "        var div = d3.select('body').append('div')\n",
    "            .attr('id', id)\n",
    "            .style('position', 'absolute')\n",
    "            .style('left', coords[0] + 'px')\n",
    "            .style('top', coords[1] + 'px');\n",
    "        \n",
    "        div.html('<iframe src=\"' + charts[id].file + '\" width=\"150\" height=\"130\"></iframe>');\n",
    "      }}\n",
    "    </script>\n",
    "  </body>\n",
    "</html>\n",
    "\"\"\"\n",
    "\n",
    "\n",
    "# Generate varcharts\n",
    "varcharts = {}\n",
    "\n",
    "for file in html_files:\n",
    "    # Extract long and lat from the file name\n",
    "    dpt, long, lat = map(float, re.search(r'chart_(.+?)_(.+?)_(.+?)\\.html', file).groups())\n",
    "    dpt = int(dpt)\n",
    "    long = long/math.pow(10, precision)\n",
    "    lat = lat/math.pow(10, precision)\n",
    "\n",
    "    # id of the chart\n",
    "    id = f'chart_{dpt}'\n",
    "    \n",
    "    # Generate charts var\n",
    "    varcharts[id] = {'long': f'{long}', 'lat': f'{lat}', 'file': f'{dir}/{file}'}\n",
    "\n",
    "# Insert divs, iframes and positions into the base html\n",
    "html = html.format(varcharts=varcharts)\n",
    "\n",
    "# Save the generated html to a file\n",
    "with open('france_map_sex_name.html', 'w') as f:\n",
    "    f.write(html)\n"
   ]
  },
  {
   "attachments": {},
   "cell_type": "markdown",
   "metadata": {},
   "source": [
    "Looks about right so let's generate all the departements."
   ]
  },
  {
   "cell_type": "code",
   "execution_count": 153,
   "metadata": {},
   "outputs": [],
   "source": [
    "for row in df_dpt.rows(named=True):\n",
    "    if row['dpt'] != 'XX' and row['longitude'] is not None and row['latitude'] is not None:\n",
    "        gen_dpt_chart_html(row['dpt'])"
   ]
  },
  {
   "cell_type": "code",
   "execution_count": null,
   "metadata": {},
   "outputs": [],
   "source": []
  }
 ],
 "metadata": {
  "kernelspec": {
   "display_name": "venv",
   "language": "python",
   "name": "python3"
  },
  "language_info": {
   "codemirror_mode": {
    "name": "ipython",
    "version": 3
   },
   "file_extension": ".py",
   "mimetype": "text/x-python",
   "name": "python",
   "nbconvert_exporter": "python",
   "pygments_lexer": "ipython3",
   "version": "3.9.5"
  },
  "orig_nbformat": 4
 },
 "nbformat": 4,
 "nbformat_minor": 2
}
