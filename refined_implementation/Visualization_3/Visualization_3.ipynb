{
 "cells": [
  {
   "attachments": {},
   "cell_type": "markdown",
   "metadata": {},
   "source": [
    "# Visualization 3\n",
    "\n",
    "## About the evolution of names within \"sexe\" in France.\n",
    "\n",
    "Are there gender effects in the data? Does popularity of names given to both sexes evolve consistently? (Note: this data set treats sex as binary; this is a simplification that carries into this assignment but does not generally hold.)\n",
    "\n",
    "We first process the data with Python, create a csv and visualize it with Tableau.\n",
    "\n",
    "## Data"
   ]
  },
  {
   "cell_type": "code",
   "execution_count": null,
   "metadata": {},
   "outputs": [],
   "source": [
    "# Content of babynames/utils.py\n",
    "# Rewritten here to simplify the understanding of the project\n",
    "\n",
    "import polars as pl\n",
    "import re\n",
    "import os\n",
    "\n",
    "data_dir_path = os.path.join('..', 'data')\n",
    "data_file_path = os.path.join(data_dir_path, 'dpt2020.csv')\n",
    "data_coord_path = os.path.join(data_dir_path, 'dpt.csv')\n",
    "\n",
    "def load_baby_names_data(base_file_path=data_file_path, coord_file_path=data_coord_path):\n",
    "    \"\"\"\n",
    "    Load data for the baby names project from CSV files using Polars.\n",
    "\n",
    "    Parameters:\n",
    "    base_file_path (str): The path to the CSV file for base data.\n",
    "    coord_file_path (str): The path to the CSV file for coord data.\n",
    "\n",
    "    Returns:\n",
    "    DataFrame: A Polars DataFrame containing a merge of all the loaded data.\n",
    "    \"\"\"\n",
    "    data = load_data(base_file_path)\n",
    "    data_coord = load_coord_data(coord_file_path)\n",
    "    baby_names_data = data.join(data_coord, on='dpt', how='left')\n",
    "    return baby_names_data\n",
    "\n",
    "def load_data(file_path):\n",
    "    \"\"\"\n",
    "    Load data from a CSV file using Polars.\n",
    "\n",
    "    Parameters:\n",
    "    file_path (str): The path to the CSV file.\n",
    "\n",
    "    Returns:\n",
    "    DataFrame: A Polars DataFrame containing the loaded data.\n",
    "    \"\"\"\n",
    "\n",
    "    # Define the data types\n",
    "    dtypes = {\n",
    "        'sexe': pl.Int64,\n",
    "        'preusuel': pl.Utf8,\n",
    "        'annais': pl.Utf8,\n",
    "        'dpt': pl.Utf8,\n",
    "        'nombre': pl.Int64\n",
    "    }\n",
    "\n",
    "    # Load the data\n",
    "    data = pl.read_csv(file_path, dtypes=dtypes)\n",
    "\n",
    "    return data\n",
    "\n",
    "def load_coord_data(file_path):\n",
    "    \"\"\"\n",
    "    Load data from a CSV file using Polars.\n",
    "\n",
    "    Parameters:\n",
    "    file_path (str): The path to the CSV file.\n",
    "\n",
    "    Returns:\n",
    "    DataFrame: A Polars DataFrame containing the loaded data.\n",
    "    \"\"\"\n",
    "    # Load the data\n",
    "    data = pl.read_csv(file_path)\n",
    "\n",
    "    # Apply the conversion function to the 'longitude' and 'latitude' columns\n",
    "    data = data.with_columns(data['longitude'].apply(dms_to_dd).alias('longitude'))\n",
    "    data = data.with_columns(data['latitude'].apply(dms_to_dd).alias('latitude'))\n",
    "\n",
    "    return data\n",
    "\n",
    "def dms_to_dd(dms):\n",
    "    \"\"\"\n",
    "    Convert degrees, minutes, and seconds to decimal degrees.\n",
    "\n",
    "    Parameters:\n",
    "    dms (str): A string representing degrees, minutes, and seconds in the format 'D°M'S\" O/E'.\n",
    "\n",
    "    Returns:\n",
    "    float: The equivalent value in decimal degrees.\n",
    "    \"\"\"\n",
    "    # example 5°20'56'' E, 46°05'58''\n",
    "    degrees, minutes, seconds, direction = re.split('[°\\'\"]+', dms)\n",
    "    dd = float(degrees) + float(minutes)/60 + float(seconds)/(60*60)\n",
    "    if str.strip(direction) in ('S','O'):\n",
    "        dd *= -1\n",
    "    return dd"
   ]
  },
  {
   "cell_type": "code",
   "execution_count": null,
   "metadata": {},
   "outputs": [],
   "source": [
    "# Load the data with additionnal columns about the departements geography\n",
    "df = load_baby_names_data()"
   ]
  },
  {
   "cell_type": "code",
   "execution_count": null,
   "metadata": {},
   "outputs": [],
   "source": [
    "# Preprocess the data \n",
    "# Calculate the ratio of a given sexe for a preusuel x annais x dpt (prénom usuel*année*dpt)\n",
    "# This ratio will called ratio_sexe in the visualization\n",
    "# Fake example : \n",
    "# on one row you'll have Claude with a ratio of 0.2 for women, in 1962, département 75\n",
    "# on another row Claude with a ratio of 0.8 for men, in 1962, département 75\n",
    "preusuel_annais = (df[[\"preusuel\", \"annais\", \"dpt\", \"nombre\"]]).groupby([\"preusuel\", \"annais\", \"dpt\"], maintain_order=True).sum()\n",
    "df = df.join(preusuel_annais, on=[\"preusuel\", \"annais\", \"dpt\"], how='left')\n",
    "df = df.with_columns((pl.col(\"nombre\") / + pl.col(\"nombre_right\")).alias(\"sexe_ratio\"))\n",
    "df = df.rename({\"nombre_right\":\"total_sexe_indistinct\"})\n",
    "df"
   ]
  },
  {
   "cell_type": "code",
   "execution_count": null,
   "metadata": {},
   "outputs": [],
   "source": [
    "df.write_csv(file=\"dpt_france_sexratio_name.csv\")"
   ]
  },
  {
   "attachments": {},
   "cell_type": "markdown",
   "metadata": {},
   "source": [
    "Now we use this csv in Tableau.\n",
    "\n",
    "To generate the following dashboard, to answer the original question.\n",
    "\n",
    "## Visualization"
   ]
  },
  {
   "attachments": {},
   "cell_type": "markdown",
   "metadata": {},
   "source": [
    "![Evolution of prénoms & sexes in France 1900-1920](../../images/Visualisation_3/global_debut.JPG \"Evolution of prénoms & sexes in France PART 1\")"
   ]
  },
  {
   "attachments": {},
   "cell_type": "markdown",
   "metadata": {},
   "source": [
    "On top left corner, we have a table made of maps of France. There are two rows, one for the \"feminin\" population and another for the \"masculin\" one. Each column corresponds to a full decade from 1900 to 2010.\n",
    "\n",
    "On a map of France, a disk is located on a département center. The size is relative to the corresponding population that year. Actually each disk is a pie chart with slices for differents values of ratio_sexe as explained earlier in the code.\n",
    "The lower the ratio the more yellow, the higher the greener. \n",
    "\n",
    "For instance here we that overall the names have high ratio meaning men have (nearly) men-only names and women have women-only names.\n",
    "\n",
    "Note that there are filters on the right and bottom. To filter specific names or a set of names according to their overall popularity.\n",
    "\n",
    "But for now let's how France evolve globally as far as prénoms and sexes are concerned."
   ]
  },
  {
   "attachments": {},
   "cell_type": "markdown",
   "metadata": {},
   "source": [
    "![Evolution of prénoms & sexes in France 1990-2010](../../images/Visualisation_3/global_fin.JPG \"Evolution of prénoms & sexes in France PART 2\")"
   ]
  },
  {
   "attachments": {},
   "cell_type": "markdown",
   "metadata": {},
   "source": [
    "A growing part of our pie is becoming slightly more yellow over time, meaning that more and more people decade after decade have names that are not only given to one sexe.\n",
    "\n",
    "Even though it is not the focus here, one can see the evolution of the french demography for each sexe with this visualisation. With the baby boom, and the differences in départements. Seems like they make more babies in the extreme North.\n",
    "\n",
    "Now that we have checked names in general, let's focus, and see a famous particular example of a French name given to both men and women : Camille. "
   ]
  },
  {
   "attachments": {},
   "cell_type": "markdown",
   "metadata": {},
   "source": [
    "![Evolution of Camille & sexes in France 1900-1920](../../images/Visualisation_3/camille_debut.JPG \"Evolution of Camille & sexes in France PART 1\")"
   ]
  },
  {
   "attachments": {},
   "cell_type": "markdown",
   "metadata": {},
   "source": [
    "In the beginning 1900-1920 Camille is modestly male dominated. The name is also disappearing gradually, before reappearing, in a very different way."
   ]
  },
  {
   "attachments": {},
   "cell_type": "markdown",
   "metadata": {},
   "source": [
    "![Evolution of Camille & sexes in France 1990-2010](../../images/Visualisation_3/camille_fin.JPG \"Evolution of Camille & sexes in France PART 2\")"
   ]
  },
  {
   "attachments": {},
   "cell_type": "markdown",
   "metadata": {},
   "source": [
    "In the 90s happens the explosion of the name Camille for women. As time goes, we see that not only the volume diminishes but the ratio evens out !\n",
    "\n",
    "Unfortunately looking at the tail only of the names popularity graph/filter on the low part does not yield interesting results.\n",
    "\n",
    "So let's look at another name more popular recently with different characteristics : Ange."
   ]
  },
  {
   "attachments": {},
   "cell_type": "markdown",
   "metadata": {},
   "source": [
    "![Evolution of Ange & sexes in France 1900-1920](../../images/Visualisation_3/ange_debut.JPG \"Evolution of Ange & sexes in France PART 1\")"
   ]
  },
  {
   "attachments": {},
   "cell_type": "markdown",
   "metadata": {},
   "source": [
    "Ange has a special path, originating more in the west départements of Bretagne, this unusual name (sort of) migrates toward Paris and dies there. It is also male dominated."
   ]
  },
  {
   "attachments": {},
   "cell_type": "markdown",
   "metadata": {},
   "source": [
    "![Evolution of Ange & sexes in France 1990-2010](../../images/Visualisation_3/ange_fin.JPG \"Evolution of Ange & sexes in France PART 2\")"
   ]
  },
  {
   "attachments": {},
   "cell_type": "markdown",
   "metadata": {},
   "source": [
    "However it sparks again in the Paris area and some other places with the emergence of female Ange. \n",
    "Hence we foud a name that participates to the growing trend of unisex names."
   ]
  },
  {
   "attachments": {},
   "cell_type": "markdown",
   "metadata": {},
   "source": []
  }
 ],
 "metadata": {
  "kernelspec": {
   "display_name": "venv",
   "language": "python",
   "name": "python3"
  },
  "language_info": {
   "codemirror_mode": {
    "name": "ipython",
    "version": 3
   },
   "file_extension": ".py",
   "mimetype": "text/x-python",
   "name": "python",
   "nbconvert_exporter": "python",
   "pygments_lexer": "ipython3",
   "version": "3.9.5"
  },
  "orig_nbformat": 4
 },
 "nbformat": 4,
 "nbformat_minor": 2
}
